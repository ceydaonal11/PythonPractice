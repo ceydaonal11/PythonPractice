{
 "cells": [
  {
   "cell_type": "markdown",
   "id": "4a4f9888",
   "metadata": {},
   "source": [
    "Nesne Yonelimli Programlama"
   ]
  },
  {
   "cell_type": "markdown",
   "id": "89176c60",
   "metadata": {},
   "source": [
    "Sinif Nedir?"
   ]
  },
  {
   "cell_type": "code",
   "execution_count": 7,
   "id": "5443c225",
   "metadata": {},
   "outputs": [
    {
     "name": "stdout",
     "output_type": "stream",
     "text": [
      "Bu bir sınıftır\n"
     ]
    }
   ],
   "source": [
    "class VeriBilimci():\n",
    "    print(\"Bu bir sınıftır\")"
   ]
  },
  {
   "cell_type": "markdown",
   "id": "58a5a423",
   "metadata": {},
   "source": [
    "Sinif Ozellikleri (Class Attributes)"
   ]
  },
  {
   "cell_type": "code",
   "execution_count": 11,
   "id": "736c4cba",
   "metadata": {},
   "outputs": [],
   "source": [
    "class VeriBilimci():\n",
    "    bolum = ''\n",
    "    sql = 'Evet'\n",
    "    deneyim_yili = 0\n",
    "    bildigi_diller = []"
   ]
  },
  {
   "cell_type": "markdown",
   "id": "ae6c3fed",
   "metadata": {},
   "source": [
    "Siniflarin Ozelliklerine Erismek"
   ]
  },
  {
   "cell_type": "code",
   "execution_count": 16,
   "id": "a0ae8a05",
   "metadata": {},
   "outputs": [
    {
     "data": {
      "text/plain": [
       "''"
      ]
     },
     "execution_count": 16,
     "metadata": {},
     "output_type": "execute_result"
    }
   ],
   "source": [
    "VeriBilimci.bolum"
   ]
  },
  {
   "cell_type": "code",
   "execution_count": 17,
   "id": "66fdbe40",
   "metadata": {},
   "outputs": [
    {
     "data": {
      "text/plain": [
       "'Evet'"
      ]
     },
     "execution_count": 17,
     "metadata": {},
     "output_type": "execute_result"
    }
   ],
   "source": [
    "VeriBilimci.sql"
   ]
  },
  {
   "cell_type": "markdown",
   "id": "13c315a9",
   "metadata": {},
   "source": [
    "Siniflarin Ozelliklerini Degistirmek"
   ]
  },
  {
   "cell_type": "code",
   "execution_count": 18,
   "id": "21f45f3a",
   "metadata": {},
   "outputs": [
    {
     "data": {
      "text/plain": [
       "'Hayir'"
      ]
     },
     "execution_count": 18,
     "metadata": {},
     "output_type": "execute_result"
    }
   ],
   "source": [
    "VeriBilimci.sql = \"Hayir\"\n",
    "VeriBilimci.sql"
   ]
  },
  {
   "cell_type": "markdown",
   "id": "af2a5a80",
   "metadata": {},
   "source": [
    "Sinif Orneklendirilmesi (instantiation)"
   ]
  },
  {
   "cell_type": "code",
   "execution_count": 19,
   "id": "43cc36d4",
   "metadata": {},
   "outputs": [],
   "source": [
    "bugra = VeriBilimci()"
   ]
  },
  {
   "cell_type": "code",
   "execution_count": 20,
   "id": "7d27520a",
   "metadata": {},
   "outputs": [
    {
     "data": {
      "text/plain": [
       "'Hayir'"
      ]
     },
     "execution_count": 20,
     "metadata": {},
     "output_type": "execute_result"
    }
   ],
   "source": [
    "bugra.sql"
   ]
  },
  {
   "cell_type": "code",
   "execution_count": 21,
   "id": "5fbff263",
   "metadata": {},
   "outputs": [
    {
     "data": {
      "text/plain": [
       "0"
      ]
     },
     "execution_count": 21,
     "metadata": {},
     "output_type": "execute_result"
    }
   ],
   "source": [
    "bugra.deneyim_yili"
   ]
  },
  {
   "cell_type": "code",
   "execution_count": 22,
   "id": "d91ae782",
   "metadata": {},
   "outputs": [
    {
     "data": {
      "text/plain": [
       "''"
      ]
     },
     "execution_count": 22,
     "metadata": {},
     "output_type": "execute_result"
    }
   ],
   "source": [
    "bugra.bolum"
   ]
  },
  {
   "cell_type": "code",
   "execution_count": 23,
   "id": "c01bdc7a",
   "metadata": {},
   "outputs": [
    {
     "data": {
      "text/plain": [
       "['Python']"
      ]
     },
     "execution_count": 23,
     "metadata": {},
     "output_type": "execute_result"
    }
   ],
   "source": [
    "bugra.bildigi_diller.append(\"Python\")\n",
    "bugra.bildigi_diller"
   ]
  },
  {
   "cell_type": "code",
   "execution_count": 24,
   "id": "9f114683",
   "metadata": {},
   "outputs": [
    {
     "data": {
      "text/plain": [
       "'Hayir'"
      ]
     },
     "execution_count": 24,
     "metadata": {},
     "output_type": "execute_result"
    }
   ],
   "source": [
    "huseyin = VeriBilimci()\n",
    "huseyin.sql"
   ]
  },
  {
   "cell_type": "raw",
   "id": "0ceaea1f",
   "metadata": {},
   "source": [
    "Yapmış olduğumuz değişiklik sınıfın özelliklerini etkiledi ve yine bu \n",
    "sınıfın özelliklerini taşıyan bir instance örnek bugra tanımladıgımız\n",
    "bildigi_dilleri getirdi halbuki huseyin de bu yok.\n",
    "Peki bunu nasıl düzelticez? -Örnek özellikleri"
   ]
  },
  {
   "cell_type": "code",
   "execution_count": 26,
   "id": "7fa95cf5",
   "metadata": {},
   "outputs": [
    {
     "data": {
      "text/plain": [
       "['Python']"
      ]
     },
     "execution_count": 26,
     "metadata": {},
     "output_type": "execute_result"
    }
   ],
   "source": [
    "huseyin.bildigi_diller"
   ]
  },
  {
   "cell_type": "markdown",
   "id": "6ae30517",
   "metadata": {},
   "source": [
    "Ornek Ozellikleri"
   ]
  },
  {
   "cell_type": "raw",
   "id": "501e745d",
   "metadata": {},
   "source": [
    "Aşagıda yapmış oldugumuz islem her bir ornegin kendi içinde degisen \n",
    "ozelliklerden olusabildigi bilgisini verir. Yani her bir ayrı örneklendirme için nitellik, özellik tutma işlemini yapıyor."
   ]
  },
  {
   "cell_type": "code",
   "execution_count": 55,
   "id": "b4604973",
   "metadata": {},
   "outputs": [],
   "source": [
    "class VeriBilimci():\n",
    "    bildigi_diller = [\"R\",\"Python\"]\n",
    "    bolum = ''\n",
    "    sql = ''\n",
    "    deneyim_yili = 0\n",
    "    def __init__(self):\n",
    "        self.bildigi_diller = []\n",
    "        self.bolum = ''"
   ]
  },
  {
   "cell_type": "code",
   "execution_count": 56,
   "id": "68829940",
   "metadata": {},
   "outputs": [
    {
     "data": {
      "text/plain": [
       "[]"
      ]
     },
     "execution_count": 56,
     "metadata": {},
     "output_type": "execute_result"
    }
   ],
   "source": [
    "bugra = VeriBilimci()\n",
    "bugra.bildigi_diller"
   ]
  },
  {
   "cell_type": "code",
   "execution_count": 57,
   "id": "e6dc20a9",
   "metadata": {},
   "outputs": [
    {
     "data": {
      "text/plain": [
       "[]"
      ]
     },
     "execution_count": 57,
     "metadata": {},
     "output_type": "execute_result"
    }
   ],
   "source": [
    "huseyin = VeriBilimci()\n",
    "huseyin.bildigi_diller"
   ]
  },
  {
   "cell_type": "code",
   "execution_count": 58,
   "id": "72c3af85",
   "metadata": {},
   "outputs": [
    {
     "data": {
      "text/plain": [
       "['Python']"
      ]
     },
     "execution_count": 58,
     "metadata": {},
     "output_type": "execute_result"
    }
   ],
   "source": [
    "bugra.bildigi_diller.append(\"Python\")\n",
    "bugra.bildigi_diller"
   ]
  },
  {
   "cell_type": "code",
   "execution_count": 59,
   "id": "a6274ae3",
   "metadata": {},
   "outputs": [
    {
     "data": {
      "text/plain": [
       "[]"
      ]
     },
     "execution_count": 59,
     "metadata": {},
     "output_type": "execute_result"
    }
   ],
   "source": [
    "huseyin.bildigi_diller"
   ]
  },
  {
   "cell_type": "code",
   "execution_count": 60,
   "id": "bd1ab04c",
   "metadata": {},
   "outputs": [
    {
     "data": {
      "text/plain": [
       "['R']"
      ]
     },
     "execution_count": 60,
     "metadata": {},
     "output_type": "execute_result"
    }
   ],
   "source": [
    "huseyin.bildigi_diller.append(\"R\")\n",
    "huseyin.bildigi_diller"
   ]
  },
  {
   "cell_type": "code",
   "execution_count": 68,
   "id": "2df99c47",
   "metadata": {},
   "outputs": [
    {
     "data": {
      "text/plain": [
       "''"
      ]
     },
     "execution_count": 68,
     "metadata": {},
     "output_type": "execute_result"
    }
   ],
   "source": [
    "VeriBilimci.bolum"
   ]
  },
  {
   "cell_type": "code",
   "execution_count": 69,
   "id": "5e387e5a",
   "metadata": {},
   "outputs": [
    {
     "data": {
      "text/plain": [
       "'YBS'"
      ]
     },
     "execution_count": 69,
     "metadata": {},
     "output_type": "execute_result"
    }
   ],
   "source": [
    "bugra.bolum = \"YBS\"\n",
    "bugra.bolum"
   ]
  },
  {
   "cell_type": "code",
   "execution_count": 70,
   "id": "796689c8",
   "metadata": {},
   "outputs": [
    {
     "data": {
      "text/plain": [
       "'CENG'"
      ]
     },
     "execution_count": 70,
     "metadata": {},
     "output_type": "execute_result"
    }
   ],
   "source": [
    "huseyin.bolum = \"CENG\"\n",
    "huseyin.bolum"
   ]
  },
  {
   "cell_type": "code",
   "execution_count": 71,
   "id": "a70c7fcd",
   "metadata": {},
   "outputs": [
    {
     "data": {
      "text/plain": [
       "''"
      ]
     },
     "execution_count": 71,
     "metadata": {},
     "output_type": "execute_result"
    }
   ],
   "source": [
    "VeriBilimci.bolum"
   ]
  },
  {
   "cell_type": "markdown",
   "id": "91f54493",
   "metadata": {},
   "source": [
    "Ornek Metodları"
   ]
  },
  {
   "cell_type": "code",
   "execution_count": 95,
   "id": "4111cf97",
   "metadata": {},
   "outputs": [],
   "source": [
    "class VeriBilimci():\n",
    "    calisanlar = []\n",
    "    def __init__(self):\n",
    "        self.bildigi_diller = []\n",
    "        self.bolum = ''\n",
    "    def dil_ekle(self, yeni_dil):\n",
    "        self.bildigi_diller.append(yeni_dil)"
   ]
  },
  {
   "cell_type": "code",
   "execution_count": 96,
   "id": "8390816d",
   "metadata": {},
   "outputs": [],
   "source": [
    "bugra = VeriBilimci()"
   ]
  },
  {
   "cell_type": "code",
   "execution_count": 97,
   "id": "f4119686",
   "metadata": {},
   "outputs": [
    {
     "data": {
      "text/plain": [
       "[]"
      ]
     },
     "execution_count": 97,
     "metadata": {},
     "output_type": "execute_result"
    }
   ],
   "source": [
    "bugra.bildigi_diller"
   ]
  },
  {
   "cell_type": "code",
   "execution_count": 98,
   "id": "f5320d7c",
   "metadata": {},
   "outputs": [
    {
     "data": {
      "text/plain": [
       "''"
      ]
     },
     "execution_count": 98,
     "metadata": {},
     "output_type": "execute_result"
    }
   ],
   "source": [
    "bugra.bolum"
   ]
  },
  {
   "cell_type": "code",
   "execution_count": 99,
   "id": "f331bfa6",
   "metadata": {},
   "outputs": [
    {
     "data": {
      "text/plain": [
       "['__class__',\n",
       " '__delattr__',\n",
       " '__dict__',\n",
       " '__dir__',\n",
       " '__doc__',\n",
       " '__eq__',\n",
       " '__format__',\n",
       " '__ge__',\n",
       " '__getattribute__',\n",
       " '__gt__',\n",
       " '__hash__',\n",
       " '__init__',\n",
       " '__init_subclass__',\n",
       " '__le__',\n",
       " '__lt__',\n",
       " '__module__',\n",
       " '__ne__',\n",
       " '__new__',\n",
       " '__reduce__',\n",
       " '__reduce_ex__',\n",
       " '__repr__',\n",
       " '__setattr__',\n",
       " '__sizeof__',\n",
       " '__str__',\n",
       " '__subclasshook__',\n",
       " '__weakref__',\n",
       " 'calisanlar',\n",
       " 'dil_ekle']"
      ]
     },
     "execution_count": 99,
     "metadata": {},
     "output_type": "execute_result"
    }
   ],
   "source": [
    "dir(VeriBilimci)"
   ]
  },
  {
   "cell_type": "code",
   "execution_count": 100,
   "id": "7081b831",
   "metadata": {},
   "outputs": [
    {
     "data": {
      "text/plain": [
       "<function __main__.VeriBilimci.dil_ekle(self, yeni_dil)>"
      ]
     },
     "execution_count": 100,
     "metadata": {},
     "output_type": "execute_result"
    }
   ],
   "source": [
    "VeriBilimci.dil_ekle #Hata"
   ]
  },
  {
   "cell_type": "code",
   "execution_count": 101,
   "id": "b6c1f1c1",
   "metadata": {},
   "outputs": [],
   "source": [
    "bugra.dil_ekle(\"R\")"
   ]
  },
  {
   "cell_type": "code",
   "execution_count": 102,
   "id": "050bcf6b",
   "metadata": {},
   "outputs": [
    {
     "data": {
      "text/plain": [
       "['R']"
      ]
     },
     "execution_count": 102,
     "metadata": {},
     "output_type": "execute_result"
    }
   ],
   "source": [
    "bugra.bildigi_diller"
   ]
  },
  {
   "cell_type": "code",
   "execution_count": null,
   "id": "ef30e0bc",
   "metadata": {},
   "outputs": [],
   "source": []
  }
 ],
 "metadata": {
  "kernelspec": {
   "display_name": "Python 3 (ipykernel)",
   "language": "python",
   "name": "python3"
  },
  "language_info": {
   "codemirror_mode": {
    "name": "ipython",
    "version": 3
   },
   "file_extension": ".py",
   "mimetype": "text/x-python",
   "name": "python",
   "nbconvert_exporter": "python",
   "pygments_lexer": "ipython3",
   "version": "3.9.12"
  }
 },
 "nbformat": 4,
 "nbformat_minor": 5
}
