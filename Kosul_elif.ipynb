{
 "cells": [
  {
   "cell_type": "markdown",
   "id": "da6a04ec",
   "metadata": {},
   "source": [
    "# elif"
   ]
  },
  {
   "cell_type": "code",
   "execution_count": 1,
   "id": "1161c3e2",
   "metadata": {},
   "outputs": [],
   "source": [
    "#Birden fazla koşul kullanmak için kullanılır"
   ]
  },
  {
   "cell_type": "code",
   "execution_count": 5,
   "id": "0667114d",
   "metadata": {},
   "outputs": [],
   "source": [
    "sinir = 5000\n",
    "gelir = 5000\n",
    "gelir2 = 7500"
   ]
  },
  {
   "cell_type": "code",
   "execution_count": 6,
   "id": "f454ece9",
   "metadata": {},
   "outputs": [
    {
     "name": "stdout",
     "output_type": "stream",
     "text": [
      "Takibe devam\n"
     ]
    }
   ],
   "source": [
    "if gelir > sinir:\n",
    "    print(\"Tebrikler, hediye kazandınız.\")\n",
    "    \n",
    "elif gelir < sinir:\n",
    "    print(\"Uyari!\")\n",
    "\n",
    "else:\n",
    "    print(\"Takibe devam\")"
   ]
  },
  {
   "cell_type": "code",
   "execution_count": 7,
   "id": "95222a6a",
   "metadata": {},
   "outputs": [
    {
     "name": "stdout",
     "output_type": "stream",
     "text": [
      "Tebrikler, hediye kazandınız.\n"
     ]
    }
   ],
   "source": [
    "if gelir2 > sinir:\n",
    "    print(\"Tebrikler, hediye kazandınız.\")\n",
    "    \n",
    "elif gelir2 < sinir:\n",
    "    print(\"Uyari!\")\n",
    "\n",
    "else:\n",
    "    print(\"Takibe devam\")"
   ]
  }
 ],
 "metadata": {
  "kernelspec": {
   "display_name": "Python 3 (ipykernel)",
   "language": "python",
   "name": "python3"
  },
  "language_info": {
   "codemirror_mode": {
    "name": "ipython",
    "version": 3
   },
   "file_extension": ".py",
   "mimetype": "text/x-python",
   "name": "python",
   "nbconvert_exporter": "python",
   "pygments_lexer": "ipython3",
   "version": "3.9.12"
  }
 },
 "nbformat": 4,
 "nbformat_minor": 5
}
