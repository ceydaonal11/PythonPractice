{
 "cells": [
  {
   "cell_type": "markdown",
   "id": "9ed166b5",
   "metadata": {},
   "source": [
    "# Veri Yapıları - Dictionary (Sözlük)"
   ]
  },
  {
   "cell_type": "markdown",
   "id": "26e94c0a",
   "metadata": {},
   "source": [
    "Sozluk Oluşturma"
   ]
  },
  {
   "cell_type": "code",
   "execution_count": 4,
   "id": "9951ced6",
   "metadata": {},
   "outputs": [],
   "source": [
    "sozluk = {\"REG\" : \"Regresyon Modeli\",\n",
    "          \"LOJ\" : \"Lojistik Regresyon\",\n",
    "          \"CART\" : \"Classification and Reg\"}"
   ]
  },
  {
   "cell_type": "code",
   "execution_count": 5,
   "id": "59958b97",
   "metadata": {},
   "outputs": [
    {
     "name": "stdout",
     "output_type": "stream",
     "text": [
      "{'REG': 'Regresyon Modeli', 'LOJ': 'Lojistik Regresyon', 'CART': 'Classification and Reg'}\n"
     ]
    }
   ],
   "source": [
    "print(sozluk)"
   ]
  },
  {
   "cell_type": "code",
   "execution_count": 6,
   "id": "65859254",
   "metadata": {},
   "outputs": [
    {
     "data": {
      "text/plain": [
       "3"
      ]
     },
     "execution_count": 6,
     "metadata": {},
     "output_type": "execute_result"
    }
   ],
   "source": [
    "len(sozluk)"
   ]
  },
  {
   "cell_type": "code",
   "execution_count": 7,
   "id": "8999df9d",
   "metadata": {},
   "outputs": [],
   "source": [
    "sozluk = {\"REG\" : 10,\n",
    "          \"LOJ\" : 20,\n",
    "          \"CART\" :30}"
   ]
  },
  {
   "cell_type": "code",
   "execution_count": 8,
   "id": "b6fb4816",
   "metadata": {},
   "outputs": [
    {
     "name": "stdout",
     "output_type": "stream",
     "text": [
      "{'REG': 10, 'LOJ': 20, 'CART': 30}\n"
     ]
    }
   ],
   "source": [
    "print(sozluk)"
   ]
  },
  {
   "cell_type": "code",
   "execution_count": 9,
   "id": "c1f917fb",
   "metadata": {},
   "outputs": [],
   "source": [
    "sozluk = {\"REG\" : [\"RMSE\",10],\n",
    "          \"LOJ\" : [\"MSE\",20],\n",
    "          \"CART\": [\"SSE\",30]}"
   ]
  },
  {
   "cell_type": "code",
   "execution_count": 10,
   "id": "17fdaf5e",
   "metadata": {},
   "outputs": [
    {
     "name": "stdout",
     "output_type": "stream",
     "text": [
      "{'REG': ['RMSE', 10], 'LOJ': ['MSE', 20], 'CART': ['SSE', 30]}\n"
     ]
    }
   ],
   "source": [
    "print(sozluk)"
   ]
  },
  {
   "cell_type": "markdown",
   "id": "1d28996f",
   "metadata": {},
   "source": [
    "# Sozluk Eleman Islemleri"
   ]
  },
  {
   "cell_type": "code",
   "execution_count": 11,
   "id": "842d3b46",
   "metadata": {},
   "outputs": [],
   "source": [
    "sozluk = {\"REG\" : \"Regresyon Modeli\",\n",
    "          \"LOJ\" : \"Lojistik Regresyon\",\n",
    "          \"CART\" : \"Classification and Reg\"}"
   ]
  },
  {
   "cell_type": "code",
   "execution_count": 13,
   "id": "0673a34b",
   "metadata": {},
   "outputs": [
    {
     "data": {
      "text/plain": [
       "'Regresyon Modeli'"
      ]
     },
     "execution_count": 13,
     "metadata": {},
     "output_type": "execute_result"
    }
   ],
   "source": [
    "sozluk[\"REG\"]"
   ]
  },
  {
   "cell_type": "code",
   "execution_count": 14,
   "id": "67a39c4e",
   "metadata": {},
   "outputs": [
    {
     "data": {
      "text/plain": [
       "'Lojistik Regresyon'"
      ]
     },
     "execution_count": 14,
     "metadata": {},
     "output_type": "execute_result"
    }
   ],
   "source": [
    "sozluk[\"LOJ\"]"
   ]
  },
  {
   "cell_type": "code",
   "execution_count": 15,
   "id": "0a3ec00d",
   "metadata": {},
   "outputs": [],
   "source": [
    "sozluk = {\"REG\" : [\"RMSE\",10],\n",
    "          \"LOJ\" : [\"MSE\",20],\n",
    "          \"CART\": [\"SSE\",30]}"
   ]
  },
  {
   "cell_type": "code",
   "execution_count": 16,
   "id": "4b198b45",
   "metadata": {},
   "outputs": [
    {
     "data": {
      "text/plain": [
       "['RMSE', 10]"
      ]
     },
     "execution_count": 16,
     "metadata": {},
     "output_type": "execute_result"
    }
   ],
   "source": [
    "sozluk[\"REG\"]"
   ]
  },
  {
   "cell_type": "code",
   "execution_count": 19,
   "id": "19bc715b",
   "metadata": {},
   "outputs": [
    {
     "data": {
      "text/plain": [
       "10"
      ]
     },
     "execution_count": 19,
     "metadata": {},
     "output_type": "execute_result"
    }
   ],
   "source": [
    "sozluk[\"REG\"][1]"
   ]
  },
  {
   "cell_type": "code",
   "execution_count": 20,
   "id": "6d4b130b",
   "metadata": {},
   "outputs": [],
   "source": [
    "sozluk = {\"REG\" : {\"RMSE\" : 10,\n",
    "                   \"MSE\" : 20,\n",
    "                   \"SSE\" : 30},\n",
    "          \n",
    "          \"LOJ\" : {\"RMSE\" : 10,\n",
    "                   \"MSE\" : 20,\n",
    "                   \"SSE\" : 30},\n",
    "          \n",
    "          \"CART\": {\"RMSE\" : 10,\n",
    "                   \"MSE\" : 20,\n",
    "                   \"SSE\" : 30}}"
   ]
  },
  {
   "cell_type": "code",
   "execution_count": 21,
   "id": "b54080e0",
   "metadata": {},
   "outputs": [
    {
     "data": {
      "text/plain": [
       "{'REG': {'RMSE': 10, 'MSE': 20, 'SSE': 30},\n",
       " 'LOJ': {'RMSE': 10, 'MSE': 20, 'SSE': 30},\n",
       " 'CART': {'RMSE': 10, 'MSE': 20, 'SSE': 30}}"
      ]
     },
     "execution_count": 21,
     "metadata": {},
     "output_type": "execute_result"
    }
   ],
   "source": [
    "sozluk"
   ]
  },
  {
   "cell_type": "code",
   "execution_count": 22,
   "id": "b1c2482e",
   "metadata": {},
   "outputs": [
    {
     "data": {
      "text/plain": [
       "{'RMSE': 10, 'MSE': 20, 'SSE': 30}"
      ]
     },
     "execution_count": 22,
     "metadata": {},
     "output_type": "execute_result"
    }
   ],
   "source": [
    "sozluk[\"REG\"]"
   ]
  },
  {
   "cell_type": "code",
   "execution_count": 27,
   "id": "b24cc0fe",
   "metadata": {},
   "outputs": [
    {
     "data": {
      "text/plain": [
       "30"
      ]
     },
     "execution_count": 27,
     "metadata": {},
     "output_type": "execute_result"
    }
   ],
   "source": [
    "sozluk[\"REG\"][\"SSE\"]"
   ]
  },
  {
   "cell_type": "markdown",
   "id": "114278ce",
   "metadata": {},
   "source": [
    "# Sozluk- Eleman Eklemek & Degistirmek"
   ]
  },
  {
   "cell_type": "code",
   "execution_count": 28,
   "id": "43adcb3e",
   "metadata": {},
   "outputs": [],
   "source": [
    "sozluk = {\"REG\" : \"Regresyon Modeli\",\n",
    "          \"LOJ\" : \"Lojistik Regresyon\",\n",
    "          \"CART\" : \"Classification and Reg\"}"
   ]
  },
  {
   "cell_type": "code",
   "execution_count": 29,
   "id": "e18cc927",
   "metadata": {},
   "outputs": [
    {
     "data": {
      "text/plain": [
       "{'REG': 'Regresyon Modeli',\n",
       " 'LOJ': 'Lojistik Regresyon',\n",
       " 'CART': 'Classification and Reg'}"
      ]
     },
     "execution_count": 29,
     "metadata": {},
     "output_type": "execute_result"
    }
   ],
   "source": [
    "sozluk"
   ]
  },
  {
   "cell_type": "code",
   "execution_count": 30,
   "id": "bcb075d6",
   "metadata": {},
   "outputs": [
    {
     "data": {
      "text/plain": [
       "{'REG': 'Regresyon Modeli',\n",
       " 'LOJ': 'Lojistik Regresyon',\n",
       " 'CART': 'Classification and Reg',\n",
       " 'GBM': 'Gradient Boosting Mac'}"
      ]
     },
     "execution_count": 30,
     "metadata": {},
     "output_type": "execute_result"
    }
   ],
   "source": [
    "sozluk[\"GBM\"] = \"Gradient Boosting Mac\"\n",
    "sozluk"
   ]
  },
  {
   "cell_type": "code",
   "execution_count": 31,
   "id": "85a52eb2",
   "metadata": {},
   "outputs": [
    {
     "data": {
      "text/plain": [
       "{'REG': 'Çoklu Doğrusal Regresyon',\n",
       " 'LOJ': 'Lojistik Regresyon',\n",
       " 'CART': 'Classification and Reg',\n",
       " 'GBM': 'Gradient Boosting Mac'}"
      ]
     },
     "execution_count": 31,
     "metadata": {},
     "output_type": "execute_result"
    }
   ],
   "source": [
    "sozluk[\"REG\"] = \"Çoklu Doğrusal Regresyon\"\n",
    "sozluk"
   ]
  },
  {
   "cell_type": "code",
   "execution_count": 32,
   "id": "8aa6220e",
   "metadata": {},
   "outputs": [
    {
     "data": {
      "text/plain": [
       "{'REG': 'Çoklu Doğrusal Regresyon',\n",
       " 'LOJ': 'Lojistik Regresyon',\n",
       " 'CART': 'Classification and Reg',\n",
       " 'GBM': 'Gradient Boosting Mac',\n",
       " 1: 'Yapay Sinir Ağları'}"
      ]
     },
     "execution_count": 32,
     "metadata": {},
     "output_type": "execute_result"
    }
   ],
   "source": [
    "sozluk[1] = \"Yapay Sinir Ağları\"\n",
    "sozluk"
   ]
  },
  {
   "cell_type": "code",
   "execution_count": 38,
   "id": "02b5986e",
   "metadata": {},
   "outputs": [
    {
     "name": "stdout",
     "output_type": "stream",
     "text": [
      "[1]\n"
     ]
    },
    {
     "ename": "NameError",
     "evalue": "name 'l' is not defined",
     "output_type": "error",
     "traceback": [
      "\u001b[1;31m---------------------------------------------------------------------------\u001b[0m",
      "\u001b[1;31mNameError\u001b[0m                                 Traceback (most recent call last)",
      "Input \u001b[1;32mIn [38]\u001b[0m, in \u001b[0;36m<cell line: 5>\u001b[1;34m()\u001b[0m\n\u001b[0;32m      2\u001b[0m \u001b[38;5;28mprint\u001b[39m(liste)\n\u001b[0;32m      4\u001b[0m \u001b[38;5;66;03m#TypeError: unhashable type: list\u001b[39;00m\n\u001b[1;32m----> 5\u001b[0m sozluk[\u001b[43ml\u001b[49m] \u001b[38;5;241m=\u001b[39m \u001b[38;5;124m\"\u001b[39m\u001b[38;5;124myeni bir şey\u001b[39m\u001b[38;5;124m\"\u001b[39m\n\u001b[0;32m      6\u001b[0m sozluk\n",
      "\u001b[1;31mNameError\u001b[0m: name 'l' is not defined"
     ]
    }
   ],
   "source": [
    "liste = [1]\n",
    "print(liste)\n",
    "\n",
    "#TypeError: unhashable type: list\n",
    "sozluk[l] = \"yeni bir şey\"\n",
    "sozluk"
   ]
  },
  {
   "cell_type": "code",
   "execution_count": 39,
   "id": "db4e927a",
   "metadata": {},
   "outputs": [
    {
     "data": {
      "text/plain": [
       "{'REG': 'Çoklu Doğrusal Regresyon',\n",
       " 'LOJ': 'Lojistik Regresyon',\n",
       " 'CART': 'Classification and Reg',\n",
       " 'GBM': 'Gradient Boosting Mac',\n",
       " 1: 'yeni bir şey',\n",
       " ('tuple',): 'yeni bir şey'}"
      ]
     },
     "execution_count": 39,
     "metadata": {},
     "output_type": "execute_result"
    }
   ],
   "source": [
    "t = (\"tuple\",)\n",
    "sozluk[t] = \"yeni bir şey\"\n",
    "sozluk"
   ]
  },
  {
   "cell_type": "markdown",
   "id": "1c5f62a3",
   "metadata": {},
   "source": [
    "\"value\" kısmına istediğimiz ifadeyi koyabiliyoruz (list,tuple vs.)\n",
    "\n",
    "\"key\" kısmına referans noktası olduğu için her şeyi koyamıyoruz."
   ]
  },
  {
   "cell_type": "code",
   "execution_count": null,
   "id": "9b5d5700",
   "metadata": {},
   "outputs": [],
   "source": []
  }
 ],
 "metadata": {
  "kernelspec": {
   "display_name": "Python 3 (ipykernel)",
   "language": "python",
   "name": "python3"
  },
  "language_info": {
   "codemirror_mode": {
    "name": "ipython",
    "version": 3
   },
   "file_extension": ".py",
   "mimetype": "text/x-python",
   "name": "python",
   "nbconvert_exporter": "python",
   "pygments_lexer": "ipython3",
   "version": "3.9.12"
  }
 },
 "nbformat": 4,
 "nbformat_minor": 5
}
