{
 "cells": [
  {
   "cell_type": "markdown",
   "id": "142be688",
   "metadata": {},
   "source": [
    "# else"
   ]
  },
  {
   "cell_type": "code",
   "execution_count": 6,
   "id": "a4e837eb",
   "metadata": {},
   "outputs": [],
   "source": [
    "gelir = 90000\n",
    "sinir = 70000 "
   ]
  },
  {
   "cell_type": "code",
   "execution_count": 7,
   "id": "9ffa3599",
   "metadata": {},
   "outputs": [
    {
     "name": "stdout",
     "output_type": "stream",
     "text": [
      "Gelir sinirdan büyüktür\n"
     ]
    }
   ],
   "source": [
    "if(gelir<sinir):\n",
    "    print(\"Gelir sinirdan kucuktur\")\n",
    "    print(gelir*2)\n",
    "    \n",
    "else:\n",
    "    print(\"Gelir sinirdan büyüktür\")"
   ]
  },
  {
   "cell_type": "code",
   "execution_count": 8,
   "id": "12875eed",
   "metadata": {},
   "outputs": [],
   "source": [
    "#örnek2"
   ]
  },
  {
   "cell_type": "code",
   "execution_count": 11,
   "id": "2779c12f",
   "metadata": {},
   "outputs": [],
   "source": [
    "gelir = 500\n",
    "gider = 500"
   ]
  },
  {
   "cell_type": "code",
   "execution_count": 12,
   "id": "b4ac9db4",
   "metadata": {},
   "outputs": [
    {
     "name": "stdout",
     "output_type": "stream",
     "text": [
      "Gelir gidere eşittir\n"
     ]
    }
   ],
   "source": [
    "if gelir==gider:\n",
    "    print(\"Gelir gidere eşittir\")\n",
    "\n",
    "else:\n",
    "    print(\"Gelir gidere eşit değildir\")"
   ]
  },
  {
   "cell_type": "code",
   "execution_count": null,
   "id": "62cd5606",
   "metadata": {},
   "outputs": [],
   "source": []
  }
 ],
 "metadata": {
  "kernelspec": {
   "display_name": "Python 3 (ipykernel)",
   "language": "python",
   "name": "python3"
  },
  "language_info": {
   "codemirror_mode": {
    "name": "ipython",
    "version": 3
   },
   "file_extension": ".py",
   "mimetype": "text/x-python",
   "name": "python",
   "nbconvert_exporter": "python",
   "pygments_lexer": "ipython3",
   "version": "3.9.12"
  }
 },
 "nbformat": 4,
 "nbformat_minor": 5
}
