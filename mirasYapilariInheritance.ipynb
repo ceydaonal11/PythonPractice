{
 "cells": [
  {
   "cell_type": "markdown",
   "id": "fd10069f",
   "metadata": {},
   "source": [
    "# Miras Yapilari (inheritance)"
   ]
  },
  {
   "cell_type": "code",
   "execution_count": 1,
   "id": "4132c85b",
   "metadata": {},
   "outputs": [],
   "source": [
    "class Employees():\n",
    "    def __init__(self):\n",
    "        self.FirstName = \"\"\n",
    "        self.LastName = \"\"\n",
    "        self.Address = \"\""
   ]
  },
  {
   "cell_type": "code",
   "execution_count": 6,
   "id": "4d92ffc7",
   "metadata": {},
   "outputs": [],
   "source": [
    "class DataScience(Employees):\n",
    "    def __init__(self):\n",
    "        self.Programming = \"\""
   ]
  },
  {
   "cell_type": "code",
   "execution_count": null,
   "id": "d52559a7",
   "metadata": {},
   "outputs": [],
   "source": [
    "veribilimci1 = DataScience()\n",
    "veribilimci1"
   ]
  },
  {
   "cell_type": "code",
   "execution_count": 7,
   "id": "c118ffcf",
   "metadata": {},
   "outputs": [],
   "source": [
    "class Marketing(Employees):\n",
    "    def __init__(self):\n",
    "        self.StoryTelling = \"\""
   ]
  },
  {
   "cell_type": "code",
   "execution_count": 10,
   "id": "08fc43a8",
   "metadata": {},
   "outputs": [],
   "source": [
    "mar1 = Marketing()\n",
    "mar1.FirstName =\"Ceyda\""
   ]
  },
  {
   "cell_type": "markdown",
   "id": "ee7d9a45",
   "metadata": {},
   "source": [
    "Sınıf tanımlamaları yaparken yapmış olduğumuz sınıfların fonksiyonel bir yapıda değil de sabit değerleriyle oluşturduk. Yani Employess classını birisini çalıştırmak istediğinde eğer bu classın içinde değişken değerler olmasını istersek ve bu şekilde kullanılmasını istersek bunu yapmanın yolu aşağıdaki gibidir."
   ]
  },
  {
   "cell_type": "code",
   "execution_count": 11,
   "id": "88d13684",
   "metadata": {},
   "outputs": [],
   "source": [
    "class Employee_yeni():\n",
    "    def __init__(self, FirstName, LastName, Address):\n",
    "        self.FirstName = FirstName\n",
    "        self.LastName = LastName\n",
    "        self.Address = Address"
   ]
  },
  {
   "cell_type": "code",
   "execution_count": 12,
   "id": "25ee51df",
   "metadata": {},
   "outputs": [
    {
     "ename": "TypeError",
     "evalue": "__init__() missing 3 required positional arguments: 'FirstName', 'LastName', and 'Address'",
     "output_type": "error",
     "traceback": [
      "\u001b[1;31m---------------------------------------------------------------------------\u001b[0m",
      "\u001b[1;31mTypeError\u001b[0m                                 Traceback (most recent call last)",
      "Input \u001b[1;32mIn [12]\u001b[0m, in \u001b[0;36m<cell line: 1>\u001b[1;34m()\u001b[0m\n\u001b[1;32m----> 1\u001b[0m ali \u001b[38;5;241m=\u001b[39m \u001b[43mEmployee_yeni\u001b[49m\u001b[43m(\u001b[49m\u001b[43m)\u001b[49m\n",
      "\u001b[1;31mTypeError\u001b[0m: __init__() missing 3 required positional arguments: 'FirstName', 'LastName', and 'Address'"
     ]
    }
   ],
   "source": [
    "ali = Employee_yeni() #Hata çünkü fonkisyonel yapıda tanımladık"
   ]
  },
  {
   "cell_type": "code",
   "execution_count": 13,
   "id": "1c97b6eb",
   "metadata": {},
   "outputs": [],
   "source": [
    "ali = Employee_yeni(\"a\",\"b\",\"c\")"
   ]
  },
  {
   "cell_type": "code",
   "execution_count": 14,
   "id": "7fb7b48e",
   "metadata": {},
   "outputs": [
    {
     "data": {
      "text/plain": [
       "'a'"
      ]
     },
     "execution_count": 14,
     "metadata": {},
     "output_type": "execute_result"
    }
   ],
   "source": [
    "ali.FirstName"
   ]
  },
  {
   "cell_type": "code",
   "execution_count": null,
   "id": "25ba8c69",
   "metadata": {},
   "outputs": [],
   "source": []
  }
 ],
 "metadata": {
  "kernelspec": {
   "display_name": "Python 3 (ipykernel)",
   "language": "python",
   "name": "python3"
  },
  "language_info": {
   "codemirror_mode": {
    "name": "ipython",
    "version": 3
   },
   "file_extension": ".py",
   "mimetype": "text/x-python",
   "name": "python",
   "nbconvert_exporter": "python",
   "pygments_lexer": "ipython3",
   "version": "3.9.12"
  }
 },
 "nbformat": 4,
 "nbformat_minor": 5
}
