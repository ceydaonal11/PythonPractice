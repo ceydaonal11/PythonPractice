{
 "cells": [
  {
   "cell_type": "markdown",
   "id": "6e7ae403",
   "metadata": {},
   "source": [
    "# Isimsiz Fonksiyonlar (Anonymous Functions)"
   ]
  },
  {
   "cell_type": "code",
   "execution_count": 1,
   "id": "a6ccd287",
   "metadata": {},
   "outputs": [],
   "source": [
    "def old_sum(a,b):\n",
    "    return(a+b)"
   ]
  },
  {
   "cell_type": "code",
   "execution_count": 2,
   "id": "f5c59f9e",
   "metadata": {},
   "outputs": [
    {
     "data": {
      "text/plain": [
       "7"
      ]
     },
     "execution_count": 2,
     "metadata": {},
     "output_type": "execute_result"
    }
   ],
   "source": [
    "old_sum(3,4)"
   ]
  },
  {
   "cell_type": "code",
   "execution_count": 3,
   "id": "67976110",
   "metadata": {},
   "outputs": [],
   "source": [
    "new_sum = lambda a,b : a+b"
   ]
  },
  {
   "cell_type": "code",
   "execution_count": 4,
   "id": "0440e7ee",
   "metadata": {},
   "outputs": [
    {
     "data": {
      "text/plain": [
       "7"
      ]
     },
     "execution_count": 4,
     "metadata": {},
     "output_type": "execute_result"
    }
   ],
   "source": [
    "new_sum(3,4)"
   ]
  },
  {
   "cell_type": "code",
   "execution_count": 7,
   "id": "0355f8bc",
   "metadata": {},
   "outputs": [
    {
     "data": {
      "text/plain": [
       "[('a', 11), ('b', 8), ('c', 7), ('d', 9)]"
      ]
     },
     "execution_count": 7,
     "metadata": {},
     "output_type": "execute_result"
    }
   ],
   "source": [
    "sirasiz_liste = [(\"a\",11), (\"b\",8), (\"c\",7), (\"d\",9)]\n",
    "sirasiz_liste"
   ]
  },
  {
   "cell_type": "code",
   "execution_count": 8,
   "id": "4b4c3070",
   "metadata": {},
   "outputs": [
    {
     "data": {
      "text/plain": [
       "[('c', 7), ('b', 8), ('d', 9), ('a', 11)]"
      ]
     },
     "execution_count": 8,
     "metadata": {},
     "output_type": "execute_result"
    }
   ],
   "source": [
    "sorted(sirasiz_liste, key = lambda x: x[1])"
   ]
  },
  {
   "cell_type": "code",
   "execution_count": null,
   "id": "69727ae6",
   "metadata": {},
   "outputs": [],
   "source": []
  }
 ],
 "metadata": {
  "kernelspec": {
   "display_name": "Python 3 (ipykernel)",
   "language": "python",
   "name": "python3"
  },
  "language_info": {
   "codemirror_mode": {
    "name": "ipython",
    "version": 3
   },
   "file_extension": ".py",
   "mimetype": "text/x-python",
   "name": "python",
   "nbconvert_exporter": "python",
   "pygments_lexer": "ipython3",
   "version": "3.9.12"
  }
 },
 "nbformat": 4,
 "nbformat_minor": 5
}
