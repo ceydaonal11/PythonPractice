{
 "cells": [
  {
   "cell_type": "markdown",
   "id": "9a59a402",
   "metadata": {},
   "source": [
    "# LISTELER"
   ]
  },
  {
   "cell_type": "code",
   "execution_count": 8,
   "id": "de7d2e21",
   "metadata": {},
   "outputs": [
    {
     "name": "stdout",
     "output_type": "stream",
     "text": [
      "[90, 80, 70, 50]\n"
     ]
    }
   ],
   "source": [
    "notlar = [90,80,70,50]\n",
    "print(notlar)"
   ]
  },
  {
   "cell_type": "code",
   "execution_count": 9,
   "id": "f5ddcd20",
   "metadata": {},
   "outputs": [
    {
     "data": {
      "text/plain": [
       "list"
      ]
     },
     "execution_count": 9,
     "metadata": {},
     "output_type": "execute_result"
    }
   ],
   "source": [
    "type(notlar)"
   ]
  },
  {
   "cell_type": "code",
   "execution_count": 16,
   "id": "bb2886a5",
   "metadata": {},
   "outputs": [
    {
     "name": "stdout",
     "output_type": "stream",
     "text": [
      "['a', 19.3, 90]\n"
     ]
    }
   ],
   "source": [
    "list = [\"a\",19.3,90]\n",
    "print(list)"
   ]
  },
  {
   "cell_type": "code",
   "execution_count": 15,
   "id": "2b22de35",
   "metadata": {},
   "outputs": [
    {
     "name": "stdout",
     "output_type": "stream",
     "text": [
      "['a', 19.3, 90, [90, 80, 70, 50]]\n"
     ]
    }
   ],
   "source": [
    "liste = [\"a\",19.3,90,notlar]\n",
    "print(liste)"
   ]
  },
  {
   "cell_type": "code",
   "execution_count": 7,
   "id": "ab723111",
   "metadata": {},
   "outputs": [
    {
     "data": {
      "text/plain": [
       "4"
      ]
     },
     "execution_count": 7,
     "metadata": {},
     "output_type": "execute_result"
    }
   ],
   "source": [
    "len(liste)"
   ]
  },
  {
   "cell_type": "code",
   "execution_count": 11,
   "id": "cbe489a0",
   "metadata": {},
   "outputs": [
    {
     "data": {
      "text/plain": [
       "list"
      ]
     },
     "execution_count": 11,
     "metadata": {},
     "output_type": "execute_result"
    }
   ],
   "source": [
    "type(liste)"
   ]
  },
  {
   "cell_type": "code",
   "execution_count": 13,
   "id": "986efdc9",
   "metadata": {},
   "outputs": [
    {
     "data": {
      "text/plain": [
       "str"
      ]
     },
     "execution_count": 13,
     "metadata": {},
     "output_type": "execute_result"
    }
   ],
   "source": [
    "type(liste[0])"
   ]
  },
  {
   "cell_type": "code",
   "execution_count": 14,
   "id": "f484b30f",
   "metadata": {},
   "outputs": [
    {
     "data": {
      "text/plain": [
       "list"
      ]
     },
     "execution_count": 14,
     "metadata": {},
     "output_type": "execute_result"
    }
   ],
   "source": [
    "type(liste[-1])"
   ]
  },
  {
   "cell_type": "code",
   "execution_count": 17,
   "id": "05a8d18c",
   "metadata": {},
   "outputs": [
    {
     "name": "stdout",
     "output_type": "stream",
     "text": [
      "[['a', 19.3, 90], ['a', 19.3, 90, [90, 80, 70, 50]]]\n"
     ]
    }
   ],
   "source": [
    "tum_liste =[list,liste]\n",
    "print(tum_liste)"
   ]
  },
  {
   "cell_type": "code",
   "execution_count": 18,
   "id": "270dcbbf",
   "metadata": {},
   "outputs": [],
   "source": [
    "#del tum_liste"
   ]
  },
  {
   "cell_type": "markdown",
   "id": "b00d19e2",
   "metadata": {},
   "source": [
    "Listeler ve Eleman İslemleri"
   ]
  },
  {
   "cell_type": "code",
   "execution_count": 20,
   "id": "dafaa6e6",
   "metadata": {},
   "outputs": [],
   "source": [
    "liste = [10,20,30,40,50]"
   ]
  },
  {
   "cell_type": "code",
   "execution_count": 22,
   "id": "8afe65f2",
   "metadata": {},
   "outputs": [
    {
     "data": {
      "text/plain": [
       "20"
      ]
     },
     "execution_count": 22,
     "metadata": {},
     "output_type": "execute_result"
    }
   ],
   "source": [
    "liste[0]\n",
    "liste[1]"
   ]
  },
  {
   "cell_type": "markdown",
   "id": "fb3dc6b6",
   "metadata": {},
   "source": [
    "index hatası verir"
   ]
  },
  {
   "cell_type": "code",
   "execution_count": 24,
   "id": "46d3b1f3",
   "metadata": {},
   "outputs": [
    {
     "ename": "IndexError",
     "evalue": "list index out of range",
     "output_type": "error",
     "traceback": [
      "\u001b[1;31m---------------------------------------------------------------------------\u001b[0m",
      "\u001b[1;31mIndexError\u001b[0m                                Traceback (most recent call last)",
      "Input \u001b[1;32mIn [24]\u001b[0m, in \u001b[0;36m<cell line: 1>\u001b[1;34m()\u001b[0m\n\u001b[1;32m----> 1\u001b[0m \u001b[38;5;28;43mlist\u001b[39;49m\u001b[43m[\u001b[49m\u001b[38;5;241;43m6\u001b[39;49m\u001b[43m]\u001b[49m\n",
      "\u001b[1;31mIndexError\u001b[0m: list index out of range"
     ]
    }
   ],
   "source": [
    "list[6]"
   ]
  },
  {
   "cell_type": "code",
   "execution_count": 25,
   "id": "d4c67665",
   "metadata": {},
   "outputs": [
    {
     "data": {
      "text/plain": [
       "[10, 20]"
      ]
     },
     "execution_count": 25,
     "metadata": {},
     "output_type": "execute_result"
    }
   ],
   "source": [
    "liste[0:2]"
   ]
  },
  {
   "cell_type": "code",
   "execution_count": 26,
   "id": "6d7b9d9e",
   "metadata": {},
   "outputs": [
    {
     "data": {
      "text/plain": [
       "[10, 20]"
      ]
     },
     "execution_count": 26,
     "metadata": {},
     "output_type": "execute_result"
    }
   ],
   "source": [
    "liste[:2]"
   ]
  },
  {
   "cell_type": "code",
   "execution_count": 27,
   "id": "2ead5455",
   "metadata": {},
   "outputs": [
    {
     "data": {
      "text/plain": [
       "[30, 40, 50]"
      ]
     },
     "execution_count": 27,
     "metadata": {},
     "output_type": "execute_result"
    }
   ],
   "source": [
    "liste[2:]"
   ]
  },
  {
   "cell_type": "code",
   "execution_count": 29,
   "id": "203d5a0f",
   "metadata": {},
   "outputs": [],
   "source": [
    "yeni_liste = [\"a\", 10, [20,30,40,50]]"
   ]
  },
  {
   "cell_type": "code",
   "execution_count": 31,
   "id": "b7818ea8",
   "metadata": {},
   "outputs": [
    {
     "data": {
      "text/plain": [
       "[20, 30, 40, 50]"
      ]
     },
     "execution_count": 31,
     "metadata": {},
     "output_type": "execute_result"
    }
   ],
   "source": [
    "yeni_liste[2]"
   ]
  },
  {
   "cell_type": "code",
   "execution_count": 32,
   "id": "20856668",
   "metadata": {},
   "outputs": [
    {
     "data": {
      "text/plain": [
       "['a', 10]"
      ]
     },
     "execution_count": 32,
     "metadata": {},
     "output_type": "execute_result"
    }
   ],
   "source": [
    "yeni_liste[0:2]"
   ]
  },
  {
   "cell_type": "code",
   "execution_count": 33,
   "id": "74174763",
   "metadata": {},
   "outputs": [
    {
     "data": {
      "text/plain": [
       "30"
      ]
     },
     "execution_count": 33,
     "metadata": {},
     "output_type": "execute_result"
    }
   ],
   "source": [
    "yeni_liste[2][1]"
   ]
  },
  {
   "cell_type": "markdown",
   "id": "40cdb086",
   "metadata": {},
   "source": [
    "Listeler - Eleman Değiştirme "
   ]
  },
  {
   "cell_type": "code",
   "execution_count": 34,
   "id": "b5f93042",
   "metadata": {},
   "outputs": [
    {
     "name": "stdout",
     "output_type": "stream",
     "text": [
      "['ali', 'veli', 'ayşe', 'fatma']\n"
     ]
    }
   ],
   "source": [
    "liste = [\"ali\",\"veli\",\"ayşe\",\"fatma\"]\n",
    "print(liste)"
   ]
  },
  {
   "cell_type": "code",
   "execution_count": 39,
   "id": "1533b2ec",
   "metadata": {},
   "outputs": [],
   "source": [
    "liste[1] =\"velinin babası\""
   ]
  },
  {
   "cell_type": "code",
   "execution_count": 40,
   "id": "f480e75b",
   "metadata": {},
   "outputs": [
    {
     "name": "stdout",
     "output_type": "stream",
     "text": [
      "['ali', 'velinin babası', 'ayşe', 'fatma']\n"
     ]
    }
   ],
   "source": [
    "print(liste)"
   ]
  },
  {
   "cell_type": "code",
   "execution_count": 42,
   "id": "d4cfd94e",
   "metadata": {},
   "outputs": [],
   "source": [
    "liste[0:3] = \"alinin annesi\",\"velinin annesi\",\"ayşenin annesi\""
   ]
  },
  {
   "cell_type": "code",
   "execution_count": 43,
   "id": "0798641d",
   "metadata": {},
   "outputs": [
    {
     "name": "stdout",
     "output_type": "stream",
     "text": [
      "['alinin annesi', 'velinin annesi', 'ayşenin annesi', 'fatma']\n"
     ]
    }
   ],
   "source": [
    "print(liste)"
   ]
  },
  {
   "cell_type": "markdown",
   "id": "3f7f15dc",
   "metadata": {},
   "source": [
    "Listeye Eleman Ekleme"
   ]
  },
  {
   "cell_type": "code",
   "execution_count": 54,
   "id": "d2b170e4",
   "metadata": {},
   "outputs": [
    {
     "name": "stdout",
     "output_type": "stream",
     "text": [
      "['ali', 'veli', 'ayşe', 'fatma', 'buğra']\n"
     ]
    }
   ],
   "source": [
    "liste = [\"ali\",\"veli\",\"ayşe\",\"fatma\"]\n",
    "liste = liste + [\"buğra\"]\n",
    "print(liste)"
   ]
  },
  {
   "cell_type": "markdown",
   "id": "3ba6b005",
   "metadata": {},
   "source": [
    "Listeden Eleman Silme"
   ]
  },
  {
   "cell_type": "code",
   "execution_count": 55,
   "id": "81df9244",
   "metadata": {},
   "outputs": [],
   "source": [
    "#del liste[2]"
   ]
  },
  {
   "cell_type": "code",
   "execution_count": 56,
   "id": "8885bb4a",
   "metadata": {},
   "outputs": [
    {
     "name": "stdout",
     "output_type": "stream",
     "text": [
      "['ali', 'veli', 'fatma', 'buğra']\n"
     ]
    }
   ],
   "source": [
    "print(liste)"
   ]
  },
  {
   "cell_type": "markdown",
   "id": "99cd6041",
   "metadata": {},
   "source": [
    "Listeler Liste Metodları"
   ]
  },
  {
   "cell_type": "code",
   "execution_count": 57,
   "id": "c1bb40e0",
   "metadata": {},
   "outputs": [
    {
     "data": {
      "text/plain": [
       "['__add__',\n",
       " '__class__',\n",
       " '__class_getitem__',\n",
       " '__contains__',\n",
       " '__delattr__',\n",
       " '__delitem__',\n",
       " '__dir__',\n",
       " '__doc__',\n",
       " '__eq__',\n",
       " '__format__',\n",
       " '__ge__',\n",
       " '__getattribute__',\n",
       " '__getitem__',\n",
       " '__gt__',\n",
       " '__hash__',\n",
       " '__iadd__',\n",
       " '__imul__',\n",
       " '__init__',\n",
       " '__init_subclass__',\n",
       " '__iter__',\n",
       " '__le__',\n",
       " '__len__',\n",
       " '__lt__',\n",
       " '__mul__',\n",
       " '__ne__',\n",
       " '__new__',\n",
       " '__reduce__',\n",
       " '__reduce_ex__',\n",
       " '__repr__',\n",
       " '__reversed__',\n",
       " '__rmul__',\n",
       " '__setattr__',\n",
       " '__setitem__',\n",
       " '__sizeof__',\n",
       " '__str__',\n",
       " '__subclasshook__',\n",
       " 'append',\n",
       " 'clear',\n",
       " 'copy',\n",
       " 'count',\n",
       " 'extend',\n",
       " 'index',\n",
       " 'insert',\n",
       " 'pop',\n",
       " 'remove',\n",
       " 'reverse',\n",
       " 'sort']"
      ]
     },
     "execution_count": 57,
     "metadata": {},
     "output_type": "execute_result"
    }
   ],
   "source": [
    "dir(liste)"
   ]
  },
  {
   "cell_type": "code",
   "execution_count": 58,
   "id": "e9b1c71d",
   "metadata": {},
   "outputs": [
    {
     "name": "stdout",
     "output_type": "stream",
     "text": [
      "['ali', 'veli', 'fatma', 'buğra', 'berkcan']\n"
     ]
    }
   ],
   "source": [
    "#append\n",
    "liste.append(\"berkcan\")\n",
    "print(liste)"
   ]
  },
  {
   "cell_type": "code",
   "execution_count": 59,
   "id": "cd3f460d",
   "metadata": {},
   "outputs": [
    {
     "name": "stdout",
     "output_type": "stream",
     "text": [
      "['ali', 'veli', 'fatma', 'buğra']\n"
     ]
    }
   ],
   "source": [
    "#remove\n",
    "liste.remove(\"berkcan\")\n",
    "print(liste)"
   ]
  },
  {
   "cell_type": "code",
   "execution_count": 63,
   "id": "a31b8ca3",
   "metadata": {},
   "outputs": [
    {
     "name": "stdout",
     "output_type": "stream",
     "text": [
      "['hüseyin', 'ali', 'veli', 'fatma', 'buğra']\n"
     ]
    }
   ],
   "source": [
    "#insert\n",
    "liste.insert(0,\"hüseyin\")\n",
    "print(liste)"
   ]
  },
  {
   "cell_type": "markdown",
   "id": "8266d85a",
   "metadata": {},
   "source": [
    "### liste.insert(2,\"ceyda\")\n",
    "print(liste)"
   ]
  },
  {
   "cell_type": "code",
   "execution_count": 66,
   "id": "5438c7cc",
   "metadata": {},
   "outputs": [],
   "source": [
    "del liste[2]"
   ]
  },
  {
   "cell_type": "code",
   "execution_count": 68,
   "id": "80210993",
   "metadata": {},
   "outputs": [
    {
     "name": "stdout",
     "output_type": "stream",
     "text": [
      "['hüseyin', 'ali', 'ceyda', 'veli', 'fatma', 'buğra']\n"
     ]
    }
   ],
   "source": [
    "print(liste)"
   ]
  },
  {
   "cell_type": "code",
   "execution_count": 69,
   "id": "67911e2b",
   "metadata": {},
   "outputs": [
    {
     "name": "stdout",
     "output_type": "stream",
     "text": [
      "6\n"
     ]
    }
   ],
   "source": [
    "print(len(liste))"
   ]
  },
  {
   "cell_type": "code",
   "execution_count": 70,
   "id": "c4c6f5ea",
   "metadata": {},
   "outputs": [
    {
     "name": "stdout",
     "output_type": "stream",
     "text": [
      "['hüseyin', 'ceyda', 'veli', 'fatma', 'buğra']\n"
     ]
    }
   ],
   "source": [
    "#pop\n",
    "liste.pop(1)\n",
    "print(liste)"
   ]
  },
  {
   "cell_type": "code",
   "execution_count": 71,
   "id": "d27e6c77",
   "metadata": {},
   "outputs": [
    {
     "name": "stdout",
     "output_type": "stream",
     "text": [
      "1\n"
     ]
    }
   ],
   "source": [
    "#count\n",
    "print(liste.count(\"ceyda\"))"
   ]
  },
  {
   "cell_type": "code",
   "execution_count": 72,
   "id": "98635bdb",
   "metadata": {},
   "outputs": [],
   "source": [
    "#copy\n",
    "liste_yedek = liste.copy()"
   ]
  },
  {
   "cell_type": "code",
   "execution_count": 73,
   "id": "ea269e59",
   "metadata": {},
   "outputs": [
    {
     "name": "stdout",
     "output_type": "stream",
     "text": [
      "['hüseyin', 'ceyda', 'veli', 'fatma', 'buğra', 'a', 'b', 11]\n"
     ]
    }
   ],
   "source": [
    "#extend\n",
    "liste.extend([\"a\",\"b\",11])\n",
    "print(liste)"
   ]
  },
  {
   "cell_type": "code",
   "execution_count": 74,
   "id": "a44d46bc",
   "metadata": {},
   "outputs": [
    {
     "data": {
      "text/plain": [
       "4"
      ]
     },
     "execution_count": 74,
     "metadata": {},
     "output_type": "execute_result"
    }
   ],
   "source": [
    "#index\n",
    "liste.index(\"buğra\")"
   ]
  },
  {
   "cell_type": "code",
   "execution_count": 77,
   "id": "1b9b9cb1",
   "metadata": {},
   "outputs": [
    {
     "name": "stdout",
     "output_type": "stream",
     "text": [
      "[11, 'b', 'a', 'buğra', 'fatma', 'veli', 'ceyda', 'hüseyin']\n"
     ]
    }
   ],
   "source": [
    "#reverse\n",
    "liste.reverse()\n",
    "print(liste)"
   ]
  },
  {
   "cell_type": "code",
   "execution_count": 78,
   "id": "96225937",
   "metadata": {},
   "outputs": [
    {
     "name": "stdout",
     "output_type": "stream",
     "text": [
      "[5, 10, 40, 90]\n"
     ]
    }
   ],
   "source": [
    "#sor[10,40,90,5]t()\n",
    "liste = [10,40,90,5]\n",
    "liste.sort()\n",
    "print(liste)"
   ]
  },
  {
   "cell_type": "code",
   "execution_count": 79,
   "id": "97ec550f",
   "metadata": {},
   "outputs": [
    {
     "name": "stdout",
     "output_type": "stream",
     "text": [
      "[]\n"
     ]
    }
   ],
   "source": [
    "#clear\n",
    "liste.clear()\n",
    "print(liste)"
   ]
  },
  {
   "cell_type": "code",
   "execution_count": null,
   "id": "e61e2ff5",
   "metadata": {},
   "outputs": [],
   "source": []
  }
 ],
 "metadata": {
  "kernelspec": {
   "display_name": "Python 3 (ipykernel)",
   "language": "python",
   "name": "python3"
  },
  "language_info": {
   "codemirror_mode": {
    "name": "ipython",
    "version": 3
   },
   "file_extension": ".py",
   "mimetype": "text/x-python",
   "name": "python",
   "nbconvert_exporter": "python",
   "pygments_lexer": "ipython3",
   "version": "3.9.12"
  }
 },
 "nbformat": 4,
 "nbformat_minor": 5
}
