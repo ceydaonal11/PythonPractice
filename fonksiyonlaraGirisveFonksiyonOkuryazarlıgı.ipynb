{
 "cells": [
  {
   "cell_type": "markdown",
   "id": "46e9d979",
   "metadata": {},
   "source": [
    "# FONKSIYONLARA GIRIS VE FONKSIYON OKURYAZARLIGI"
   ]
  },
  {
   "cell_type": "code",
   "execution_count": 1,
   "id": "71b66fe9",
   "metadata": {},
   "outputs": [
    {
     "data": {
      "text/plain": [
       "<function print>"
      ]
     },
     "execution_count": 1,
     "metadata": {},
     "output_type": "execute_result"
    }
   ],
   "source": [
    "print"
   ]
  },
  {
   "cell_type": "code",
   "execution_count": 3,
   "id": "ba880b00",
   "metadata": {},
   "outputs": [
    {
     "name": "stdout",
     "output_type": "stream",
     "text": [
      "a_b\n"
     ]
    }
   ],
   "source": [
    "print(\"a\",\"b\", sep = \"_\")"
   ]
  },
  {
   "cell_type": "code",
   "execution_count": 2,
   "id": "a13f9098",
   "metadata": {},
   "outputs": [],
   "source": [
    "?print"
   ]
  },
  {
   "cell_type": "code",
   "execution_count": 5,
   "id": "1d02a26d",
   "metadata": {},
   "outputs": [
    {
     "data": {
      "text/plain": [
       "1"
      ]
     },
     "execution_count": 5,
     "metadata": {},
     "output_type": "execute_result"
    }
   ],
   "source": [
    "len(\"a\")"
   ]
  },
  {
   "cell_type": "markdown",
   "id": "74359928",
   "metadata": {},
   "source": [
    "Matematiksel Islemler"
   ]
  },
  {
   "cell_type": "code",
   "execution_count": 6,
   "id": "e018dfa9",
   "metadata": {},
   "outputs": [
    {
     "data": {
      "text/plain": [
       "16"
      ]
     },
     "execution_count": 6,
     "metadata": {},
     "output_type": "execute_result"
    }
   ],
   "source": [
    "4*4"
   ]
  },
  {
   "cell_type": "code",
   "execution_count": 7,
   "id": "b93c3172",
   "metadata": {},
   "outputs": [
    {
     "data": {
      "text/plain": [
       "1.0"
      ]
     },
     "execution_count": 7,
     "metadata": {},
     "output_type": "execute_result"
    }
   ],
   "source": [
    "4/4"
   ]
  },
  {
   "cell_type": "code",
   "execution_count": 8,
   "id": "9164da17",
   "metadata": {},
   "outputs": [
    {
     "data": {
      "text/plain": [
       "4"
      ]
     },
     "execution_count": 8,
     "metadata": {},
     "output_type": "execute_result"
    }
   ],
   "source": [
    "11-7"
   ]
  },
  {
   "cell_type": "code",
   "execution_count": 9,
   "id": "17d93877",
   "metadata": {},
   "outputs": [
    {
     "data": {
      "text/plain": [
       "14"
      ]
     },
     "execution_count": 9,
     "metadata": {},
     "output_type": "execute_result"
    }
   ],
   "source": [
    "11+3"
   ]
  },
  {
   "cell_type": "code",
   "execution_count": 10,
   "id": "7ffb2991",
   "metadata": {},
   "outputs": [
    {
     "data": {
      "text/plain": [
       "32"
      ]
     },
     "execution_count": 10,
     "metadata": {},
     "output_type": "execute_result"
    }
   ],
   "source": [
    "2**5"
   ]
  },
  {
   "cell_type": "markdown",
   "id": "85d9d081",
   "metadata": {},
   "source": [
    "Fonksiyon Nasil Yazilir?"
   ]
  },
  {
   "cell_type": "code",
   "execution_count": 17,
   "id": "56bc7c88",
   "metadata": {},
   "outputs": [
    {
     "name": "stdout",
     "output_type": "stream",
     "text": [
      "9\n"
     ]
    }
   ],
   "source": [
    "def kare_al(x):\n",
    "    print(x**2)\n",
    "    \n",
    "kare_al(3)"
   ]
  },
  {
   "cell_type": "code",
   "execution_count": 14,
   "id": "a3fb5997",
   "metadata": {},
   "outputs": [
    {
     "data": {
      "text/plain": [
       "function"
      ]
     },
     "execution_count": 14,
     "metadata": {},
     "output_type": "execute_result"
    }
   ],
   "source": [
    "type(kare_al)"
   ]
  },
  {
   "cell_type": "markdown",
   "id": "fc977908",
   "metadata": {},
   "source": [
    "Bilgi Notuyla Cikti Uretmek"
   ]
  },
  {
   "cell_type": "code",
   "execution_count": 28,
   "id": "85c88211",
   "metadata": {},
   "outputs": [
    {
     "name": "stdout",
     "output_type": "stream",
     "text": [
      "Girilen sayinin karesi: 9\n"
     ]
    }
   ],
   "source": [
    "def kare_al(x):\n",
    "    print(\"Girilen sayinin karesi: \" + str(x**2))\n",
    "    \n",
    "kare_al(3)    "
   ]
  },
  {
   "cell_type": "code",
   "execution_count": 31,
   "id": "f7c610f3",
   "metadata": {},
   "outputs": [
    {
     "name": "stdout",
     "output_type": "stream",
     "text": [
      "Girilen sayi: 3\n",
      "Girilen sayinin karesi: 9\n"
     ]
    }
   ],
   "source": [
    "def kare_al(x):\n",
    "    print(\"Girilen sayi: \" + str(x))\n",
    "    \n",
    "kare_al(3)\n",
    "def kare_al(x):\n",
    "    print(\"Girilen sayinin karesi: \" + str(x**2))\n",
    "    \n",
    "kare_al(3) "
   ]
  },
  {
   "cell_type": "code",
   "execution_count": 37,
   "id": "c4651958",
   "metadata": {},
   "outputs": [
    {
     "name": "stdout",
     "output_type": "stream",
     "text": [
      "Girilen Sayi: 4, Karesi: 16\n"
     ]
    }
   ],
   "source": [
    "def kare_al(x):\n",
    "    print(\"Girilen Sayi: \" + str(x) +\",\"+\" Karesi: \" + str(x**2))\n",
    " \n",
    "kare_al(4)"
   ]
  },
  {
   "cell_type": "markdown",
   "id": "1a766fc2",
   "metadata": {},
   "source": [
    "Iki Argumanli Fonksiyon Tanimlamak"
   ]
  },
  {
   "cell_type": "code",
   "execution_count": 38,
   "id": "24f5316c",
   "metadata": {},
   "outputs": [],
   "source": [
    "def kare_al(x):\n",
    "    print(x**2)\n"
   ]
  },
  {
   "cell_type": "code",
   "execution_count": 39,
   "id": "5abf9075",
   "metadata": {},
   "outputs": [
    {
     "name": "stdout",
     "output_type": "stream",
     "text": [
      "30\n"
     ]
    }
   ],
   "source": [
    "def carpma_yap(x, y):\n",
    "    print(x*y)\n",
    "carpma_yap(5, 6)    "
   ]
  },
  {
   "cell_type": "markdown",
   "id": "3ddf097d",
   "metadata": {},
   "source": [
    "On Tanimli Argumanlar"
   ]
  },
  {
   "cell_type": "code",
   "execution_count": 40,
   "id": "d87f1431",
   "metadata": {},
   "outputs": [],
   "source": [
    "?print"
   ]
  },
  {
   "cell_type": "code",
   "execution_count": 42,
   "id": "ec1eab4d",
   "metadata": {},
   "outputs": [
    {
     "name": "stdout",
     "output_type": "stream",
     "text": [
      "10\n"
     ]
    }
   ],
   "source": [
    "def carpma_yap(x, y=2):\n",
    "    print(x*y)\n",
    "carpma_yap(5)    "
   ]
  },
  {
   "cell_type": "code",
   "execution_count": 43,
   "id": "4d44afec",
   "metadata": {},
   "outputs": [
    {
     "name": "stdout",
     "output_type": "stream",
     "text": [
      "35\n"
     ]
    }
   ],
   "source": [
    "def carpma_yap(x, y=2):\n",
    "    print(x*y)\n",
    "carpma_yap(5,7)  "
   ]
  },
  {
   "cell_type": "markdown",
   "id": "05d0cc03",
   "metadata": {},
   "source": [
    "Argumanlarin Siralamasi"
   ]
  },
  {
   "cell_type": "code",
   "execution_count": 44,
   "id": "9cb60dd0",
   "metadata": {},
   "outputs": [],
   "source": [
    "def carpma_yap(x, y=2):\n",
    "    print(x*y)"
   ]
  },
  {
   "cell_type": "code",
   "execution_count": 46,
   "id": "582bfb2c",
   "metadata": {},
   "outputs": [
    {
     "name": "stdout",
     "output_type": "stream",
     "text": [
      "6\n"
     ]
    }
   ],
   "source": [
    "carpma_yap(y = 2, x = 3)"
   ]
  },
  {
   "cell_type": "markdown",
   "id": "d935cd98",
   "metadata": {},
   "source": [
    "Ne Zaman Fonksiyon Yazilir?"
   ]
  },
  {
   "cell_type": "code",
   "execution_count": 47,
   "id": "d0c6ed04",
   "metadata": {},
   "outputs": [],
   "source": [
    "#Sokak lambasinin isi, nem ve sarjini(%) ölçsün"
   ]
  },
  {
   "cell_type": "code",
   "execution_count": 49,
   "id": "e551d055",
   "metadata": {},
   "outputs": [
    {
     "data": {
      "text/plain": [
       "0.7222222222222222"
      ]
     },
     "execution_count": 49,
     "metadata": {},
     "output_type": "execute_result"
    }
   ],
   "source": [
    "(40 + 25)/90"
   ]
  },
  {
   "cell_type": "code",
   "execution_count": 50,
   "id": "d227323a",
   "metadata": {},
   "outputs": [],
   "source": [
    "def direk_hesap(isi, nem, sarj):\n",
    "    print((isi+nem)/sarj)"
   ]
  },
  {
   "cell_type": "code",
   "execution_count": 52,
   "id": "f4750c75",
   "metadata": {},
   "outputs": [
    {
     "name": "stdout",
     "output_type": "stream",
     "text": [
      "0.9285714285714286\n"
     ]
    }
   ],
   "source": [
    "direk_hesap(25,40,70)"
   ]
  },
  {
   "cell_type": "markdown",
   "id": "c5dec579",
   "metadata": {},
   "source": [
    "Ciktiyi Girdi Olarak Kullanmak : RETURN"
   ]
  },
  {
   "cell_type": "code",
   "execution_count": 57,
   "id": "28e38d9f",
   "metadata": {},
   "outputs": [
    {
     "name": "stdout",
     "output_type": "stream",
     "text": [
      "54.333333333333336\n"
     ]
    }
   ],
   "source": [
    "def direk_hesap(isi, nem, sarj):\n",
    "    print((isi+nem)/sarj)\n",
    "direk_hesap(55,760,15)    "
   ]
  },
  {
   "cell_type": "code",
   "execution_count": 69,
   "id": "7cc498e7",
   "metadata": {},
   "outputs": [
    {
     "data": {
      "text/plain": [
       "54.333333333333336"
      ]
     },
     "execution_count": 69,
     "metadata": {},
     "output_type": "execute_result"
    }
   ],
   "source": [
    "def direk_hesap(isi, nem, sarj):\n",
    "    return((isi+nem)/sarj)\n",
    "direk_hesap(55,760,15)  "
   ]
  },
  {
   "cell_type": "code",
   "execution_count": 71,
   "id": "f22582cc",
   "metadata": {},
   "outputs": [
    {
     "data": {
      "text/plain": [
       "54.333333333333336"
      ]
     },
     "execution_count": 71,
     "metadata": {},
     "output_type": "execute_result"
    }
   ],
   "source": [
    "cikti = direk_hesap(55,760,15)\n",
    "cikti"
   ]
  },
  {
   "cell_type": "markdown",
   "id": "edaf347f",
   "metadata": {},
   "source": [
    "Local ve Global Degiskenler"
   ]
  },
  {
   "cell_type": "code",
   "execution_count": 72,
   "id": "17ab1fc8",
   "metadata": {},
   "outputs": [],
   "source": [
    "#Global degiskenler\n",
    "x=10\n",
    "y=20"
   ]
  },
  {
   "cell_type": "code",
   "execution_count": 73,
   "id": "17b1be38",
   "metadata": {},
   "outputs": [],
   "source": [
    "#Local Degiskenler : Bir fonksiyon ya da döngünün etkisinde olan degiskenler\n",
    "def carpma_yap(x,y):\n",
    "    return(x*y)"
   ]
  },
  {
   "cell_type": "code",
   "execution_count": 74,
   "id": "f5ebaeca",
   "metadata": {},
   "outputs": [
    {
     "data": {
      "text/plain": [
       "6"
      ]
     },
     "execution_count": 74,
     "metadata": {},
     "output_type": "execute_result"
    }
   ],
   "source": [
    "carpma_yap(2,3)"
   ]
  },
  {
   "cell_type": "markdown",
   "id": "db28161e",
   "metadata": {},
   "source": [
    "Local Etki Alanindan Global Etki Alanini Degistirmek"
   ]
  },
  {
   "cell_type": "code",
   "execution_count": 90,
   "id": "e80422d1",
   "metadata": {},
   "outputs": [],
   "source": [
    "x = []"
   ]
  },
  {
   "cell_type": "code",
   "execution_count": 91,
   "id": "b3f4ee4b",
   "metadata": {},
   "outputs": [],
   "source": [
    "def eleman_ekle(y):\n",
    "    x.append(y)\n",
    "    print(str(y) + \" ifadesi eklendi\")\n",
    " "
   ]
  },
  {
   "cell_type": "code",
   "execution_count": 92,
   "id": "35f260af",
   "metadata": {},
   "outputs": [
    {
     "name": "stdout",
     "output_type": "stream",
     "text": [
      "1 ifadesi eklendi\n"
     ]
    }
   ],
   "source": [
    "eleman_ekle(1)"
   ]
  },
  {
   "cell_type": "code",
   "execution_count": 93,
   "id": "b5ca26c4",
   "metadata": {},
   "outputs": [
    {
     "name": "stdout",
     "output_type": "stream",
     "text": [
      "ceyda ifadesi eklendi\n"
     ]
    }
   ],
   "source": [
    "eleman_ekle(\"ceyda\")"
   ]
  },
  {
   "cell_type": "code",
   "execution_count": 110,
   "id": "3ebbd1bb",
   "metadata": {},
   "outputs": [
    {
     "data": {
      "text/plain": [
       "[1, 'ceyda']"
      ]
     },
     "execution_count": 110,
     "metadata": {},
     "output_type": "execute_result"
    }
   ],
   "source": [
    "x"
   ]
  },
  {
   "cell_type": "markdown",
   "id": "56d5c7cf",
   "metadata": {},
   "source": []
  }
 ],
 "metadata": {
  "kernelspec": {
   "display_name": "Python 3 (ipykernel)",
   "language": "python",
   "name": "python3"
  },
  "language_info": {
   "codemirror_mode": {
    "name": "ipython",
    "version": 3
   },
   "file_extension": ".py",
   "mimetype": "text/x-python",
   "name": "python",
   "nbconvert_exporter": "python",
   "pygments_lexer": "ipython3",
   "version": "3.9.12"
  }
 },
 "nbformat": 4,
 "nbformat_minor": 5
}
