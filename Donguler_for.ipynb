{
 "cells": [
  {
   "cell_type": "markdown",
   "id": "bbc9c42c",
   "metadata": {},
   "source": [
    "# Donguler - for"
   ]
  },
  {
   "cell_type": "code",
   "execution_count": 1,
   "id": "02eadf3f",
   "metadata": {},
   "outputs": [],
   "source": [
    "ogrenci = [\"ceyda\",\"bugra\",\"huseyin\",\"arzu\",\"suleyman\"]"
   ]
  },
  {
   "cell_type": "code",
   "execution_count": 2,
   "id": "cd35cf60",
   "metadata": {},
   "outputs": [
    {
     "data": {
      "text/plain": [
       "'ceyda'"
      ]
     },
     "execution_count": 2,
     "metadata": {},
     "output_type": "execute_result"
    }
   ],
   "source": [
    "ogrenci[0]"
   ]
  },
  {
   "cell_type": "code",
   "execution_count": 5,
   "id": "2818ccbc",
   "metadata": {},
   "outputs": [
    {
     "name": "stdout",
     "output_type": "stream",
     "text": [
      "Ogrenci Adi: ceyda\n",
      "Ogrenci Adi: bugra\n",
      "Ogrenci Adi: huseyin\n",
      "Ogrenci Adi: arzu\n",
      "Ogrenci Adi: suleyman\n"
     ]
    }
   ],
   "source": [
    "for i in ogrenci:\n",
    "    print(\"Ogrenci Adi: \" + i)"
   ]
  },
  {
   "cell_type": "markdown",
   "id": "f644849a",
   "metadata": {},
   "source": [
    "örnek"
   ]
  },
  {
   "cell_type": "code",
   "execution_count": 6,
   "id": "ba1ffbb4",
   "metadata": {},
   "outputs": [],
   "source": [
    "maaslar = [1000,2000,3000,4000,5000]"
   ]
  },
  {
   "cell_type": "code",
   "execution_count": 13,
   "id": "93284e7d",
   "metadata": {},
   "outputs": [
    {
     "data": {
      "text/plain": [
       "2000"
      ]
     },
     "execution_count": 13,
     "metadata": {},
     "output_type": "execute_result"
    }
   ],
   "source": [
    "maaslar[1]"
   ]
  },
  {
   "cell_type": "code",
   "execution_count": 18,
   "id": "ec846c13",
   "metadata": {},
   "outputs": [
    {
     "name": "stdout",
     "output_type": "stream",
     "text": [
      "Maaslar: 1000\n",
      "Maaslar: 2000\n",
      "Maaslar: 3000\n",
      "Maaslar: 4000\n",
      "Maaslar: 5000\n"
     ]
    }
   ],
   "source": [
    "for i in maaslar:\n",
    "    print(\"Maaslar: \" + str(i))"
   ]
  },
  {
   "cell_type": "code",
   "execution_count": null,
   "id": "d6713ad1",
   "metadata": {},
   "outputs": [],
   "source": []
  }
 ],
 "metadata": {
  "kernelspec": {
   "display_name": "Python 3 (ipykernel)",
   "language": "python",
   "name": "python3"
  },
  "language_info": {
   "codemirror_mode": {
    "name": "ipython",
    "version": 3
   },
   "file_extension": ".py",
   "mimetype": "text/x-python",
   "name": "python",
   "nbconvert_exporter": "python",
   "pygments_lexer": "ipython3",
   "version": "3.9.12"
  }
 },
 "nbformat": 4,
 "nbformat_minor": 5
}
