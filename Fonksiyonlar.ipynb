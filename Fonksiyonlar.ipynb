{
 "cells": [
  {
   "cell_type": "markdown",
   "id": "36933768",
   "metadata": {},
   "source": [
    "# Python ' da Fonksiyonel Programlama"
   ]
  },
  {
   "cell_type": "code",
   "execution_count": 1,
   "id": "ce85a471",
   "metadata": {},
   "outputs": [],
   "source": [
    "#Fonksiyonlar dilin bastacıdır\n",
    "#Birinci sınıf nesnelerdir\n",
    "#Yan etkisiz fonksiyonlar.(stateless, girdi-cikti)\n",
    "#Yüksek seviye fonksiyonlar\n",
    "#Vektorel operasyonlar"
   ]
  },
  {
   "cell_type": "markdown",
   "id": "f92a91d6",
   "metadata": {},
   "source": [
    "Yan Etkisiz Fonksiyonlar (Pure Functions)"
   ]
  },
  {
   "cell_type": "code",
   "execution_count": 11,
   "id": "2b616605",
   "metadata": {},
   "outputs": [],
   "source": [
    "#Ornek1: Bagimsizlik"
   ]
  },
  {
   "cell_type": "code",
   "execution_count": 12,
   "id": "7e89ae9d",
   "metadata": {},
   "outputs": [],
   "source": [
    "A = 5 # global degisken\n",
    "# Fonkisyonun dışarıdan bagimliligi var\n",
    "def impure_sum(b):  #pure olmayan fonksiyon\n",
    "    return b + A"
   ]
  },
  {
   "cell_type": "code",
   "execution_count": 16,
   "id": "0a5402cb",
   "metadata": {},
   "outputs": [],
   "source": [
    "def pure_sum(a,b):\n",
    "    return a + b"
   ]
  },
  {
   "cell_type": "code",
   "execution_count": 17,
   "id": "1b57c279",
   "metadata": {},
   "outputs": [
    {
     "data": {
      "text/plain": [
       "10"
      ]
     },
     "execution_count": 17,
     "metadata": {},
     "output_type": "execute_result"
    }
   ],
   "source": [
    "impure_sum(5)"
   ]
  },
  {
   "cell_type": "code",
   "execution_count": 18,
   "id": "8068a955",
   "metadata": {},
   "outputs": [
    {
     "data": {
      "text/plain": [
       "7"
      ]
     },
     "execution_count": 18,
     "metadata": {},
     "output_type": "execute_result"
    }
   ],
   "source": [
    "pure_sum(3,4)"
   ]
  }
 ],
 "metadata": {
  "kernelspec": {
   "display_name": "Python 3 (ipykernel)",
   "language": "python",
   "name": "python3"
  },
  "language_info": {
   "codemirror_mode": {
    "name": "ipython",
    "version": 3
   },
   "file_extension": ".py",
   "mimetype": "text/x-python",
   "name": "python",
   "nbconvert_exporter": "python",
   "pygments_lexer": "ipython3",
   "version": "3.9.12"
  }
 },
 "nbformat": 4,
 "nbformat_minor": 5
}
