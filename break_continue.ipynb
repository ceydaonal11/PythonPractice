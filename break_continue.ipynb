{
 "cells": [
  {
   "cell_type": "markdown",
   "id": "2fb9ec7f",
   "metadata": {},
   "source": [
    "# break & continue"
   ]
  },
  {
   "cell_type": "code",
   "execution_count": 3,
   "id": "85b9dfe9",
   "metadata": {},
   "outputs": [],
   "source": [
    "maaslar =[1000,8000,3000,9000,5000,2000]"
   ]
  },
  {
   "cell_type": "code",
   "execution_count": 4,
   "id": "2ce35392",
   "metadata": {},
   "outputs": [
    {
     "name": "stdout",
     "output_type": "stream",
     "text": [
      "1000\n",
      "8000\n",
      "3000\n",
      "9000\n",
      "5000\n",
      "2000\n"
     ]
    }
   ],
   "source": [
    "for i in maaslar:\n",
    "    print(i)"
   ]
  },
  {
   "cell_type": "markdown",
   "id": "643ca5bc",
   "metadata": {},
   "source": [
    "break"
   ]
  },
  {
   "cell_type": "code",
   "execution_count": 6,
   "id": "6401ff1f",
   "metadata": {},
   "outputs": [],
   "source": [
    "#3000' e geldiğinde dur başka birisiyle ilgilenmiyorum."
   ]
  },
  {
   "cell_type": "code",
   "execution_count": 13,
   "id": "ebedf8f4",
   "metadata": {},
   "outputs": [
    {
     "data": {
      "text/plain": [
       "[1000, 2000, 3000, 5000, 8000, 9000]"
      ]
     },
     "execution_count": 13,
     "metadata": {},
     "output_type": "execute_result"
    }
   ],
   "source": [
    "maaslar.sort()\n",
    "maaslar"
   ]
  },
  {
   "cell_type": "code",
   "execution_count": 15,
   "id": "6162aadf",
   "metadata": {},
   "outputs": [
    {
     "name": "stdout",
     "output_type": "stream",
     "text": [
      "1000\n",
      "2000\n",
      "kesildi\n"
     ]
    }
   ],
   "source": [
    "for i in maaslar:\n",
    "    if i == 3000:\n",
    "        print(\"kesildi\")\n",
    "        break\n",
    "    print(i)    "
   ]
  },
  {
   "cell_type": "markdown",
   "id": "536c324b",
   "metadata": {},
   "source": [
    "continue"
   ]
  },
  {
   "cell_type": "code",
   "execution_count": 16,
   "id": "5c1fc1dd",
   "metadata": {},
   "outputs": [
    {
     "name": "stdout",
     "output_type": "stream",
     "text": [
      "1000\n",
      "2000\n",
      "kesildi\n",
      "5000\n",
      "8000\n",
      "9000\n"
     ]
    }
   ],
   "source": [
    "for i in maaslar:\n",
    "    if i == 3000:\n",
    "        print(\"kesildi\")\n",
    "        continue\n",
    "    print(i)   "
   ]
  },
  {
   "cell_type": "code",
   "execution_count": null,
   "id": "9c4baffb",
   "metadata": {},
   "outputs": [],
   "source": []
  }
 ],
 "metadata": {
  "kernelspec": {
   "display_name": "Python 3 (ipykernel)",
   "language": "python",
   "name": "python3"
  },
  "language_info": {
   "codemirror_mode": {
    "name": "ipython",
    "version": 3
   },
   "file_extension": ".py",
   "mimetype": "text/x-python",
   "name": "python",
   "nbconvert_exporter": "python",
   "pygments_lexer": "ipython3",
   "version": "3.9.12"
  }
 },
 "nbformat": 4,
 "nbformat_minor": 5
}
