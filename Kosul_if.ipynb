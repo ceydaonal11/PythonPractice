{
 "cells": [
  {
   "cell_type": "markdown",
   "id": "9edd3dd5",
   "metadata": {},
   "source": [
    "# if"
   ]
  },
  {
   "cell_type": "code",
   "execution_count": 25,
   "id": "f702674c",
   "metadata": {},
   "outputs": [],
   "source": [
    "sinir = 50000\n",
    "gelir = 60000"
   ]
  },
  {
   "cell_type": "code",
   "execution_count": 26,
   "id": "329aff66",
   "metadata": {},
   "outputs": [
    {
     "data": {
      "text/plain": [
       "False"
      ]
     },
     "execution_count": 26,
     "metadata": {},
     "output_type": "execute_result"
    }
   ],
   "source": [
    "gelir < sinir"
   ]
  },
  {
   "cell_type": "code",
   "execution_count": 27,
   "id": "002d2c1f",
   "metadata": {},
   "outputs": [
    {
     "name": "stdout",
     "output_type": "stream",
     "text": [
      "Gelir sinirdan büyüktür\n"
     ]
    }
   ],
   "source": [
    "if(gelir<sinir):\n",
    "    print(\"Gelir sinirdan kucuktur\")\n",
    "    print(gelir*2)\n",
    "    \n",
    "if(gelir==sinir):\n",
    "    print(\"Gelir sinira eşittir\")\n",
    "\n",
    "if(gelir>sinir):\n",
    "    print(\"Gelir sinirdan büyüktür\")"
   ]
  },
  {
   "cell_type": "code",
   "execution_count": null,
   "id": "2227d2d1",
   "metadata": {},
   "outputs": [],
   "source": []
  }
 ],
 "metadata": {
  "kernelspec": {
   "display_name": "Python 3 (ipykernel)",
   "language": "python",
   "name": "python3"
  },
  "language_info": {
   "codemirror_mode": {
    "name": "ipython",
    "version": 3
   },
   "file_extension": ".py",
   "mimetype": "text/x-python",
   "name": "python",
   "nbconvert_exporter": "python",
   "pygments_lexer": "ipython3",
   "version": "3.9.12"
  }
 },
 "nbformat": 4,
 "nbformat_minor": 5
}
