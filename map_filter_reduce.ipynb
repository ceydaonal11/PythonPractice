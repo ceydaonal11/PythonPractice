{
 "cells": [
  {
   "cell_type": "markdown",
   "id": "98d94bae",
   "metadata": {},
   "source": [
    "# map & filter & reduce"
   ]
  },
  {
   "cell_type": "code",
   "execution_count": 1,
   "id": "aa0d8168",
   "metadata": {},
   "outputs": [],
   "source": [
    "liste = [1,2,3,4,5]"
   ]
  },
  {
   "cell_type": "code",
   "execution_count": 3,
   "id": "9031d372",
   "metadata": {},
   "outputs": [
    {
     "name": "stdout",
     "output_type": "stream",
     "text": [
      "11\n",
      "12\n",
      "13\n",
      "14\n",
      "15\n"
     ]
    }
   ],
   "source": [
    "#Listenin her bir elemanına 10 eklemek istiyorum\n",
    "for i in liste:\n",
    "    print(i+10)"
   ]
  },
  {
   "cell_type": "markdown",
   "id": "93971e61",
   "metadata": {},
   "source": [
    "map"
   ]
  },
  {
   "cell_type": "code",
   "execution_count": 5,
   "id": "90bcac37",
   "metadata": {},
   "outputs": [
    {
     "data": {
      "text/plain": [
       "[11, 12, 13, 14, 15]"
      ]
     },
     "execution_count": 5,
     "metadata": {},
     "output_type": "execute_result"
    }
   ],
   "source": [
    "#map: verilen bir vektörün içerisinde belirli bir fonk calistirma imkanı verir\n",
    "\n",
    "list(map(lambda x: x+10, liste))"
   ]
  },
  {
   "cell_type": "markdown",
   "id": "c21a19eb",
   "metadata": {},
   "source": [
    "filter"
   ]
  },
  {
   "cell_type": "code",
   "execution_count": 6,
   "id": "05b64a41",
   "metadata": {},
   "outputs": [],
   "source": [
    "#filter: iteratif bir nesne alır.\n",
    "#        başka iteratif nesne oluşturur\n",
    "#        şartın sağlandığı elemanları filtreler."
   ]
  },
  {
   "cell_type": "code",
   "execution_count": 7,
   "id": "11dc9b0d",
   "metadata": {},
   "outputs": [],
   "source": [
    "liste = [1,2,3,4,5,6,7,8,9,10]"
   ]
  },
  {
   "cell_type": "code",
   "execution_count": 8,
   "id": "4f4192e0",
   "metadata": {},
   "outputs": [
    {
     "data": {
      "text/plain": [
       "[2, 4, 6, 8, 10]"
      ]
     },
     "execution_count": 8,
     "metadata": {},
     "output_type": "execute_result"
    }
   ],
   "source": [
    "list(filter(lambda x: x % 2 == 0, liste))"
   ]
  },
  {
   "cell_type": "markdown",
   "id": "9b0441d6",
   "metadata": {},
   "source": [
    "reduce"
   ]
  },
  {
   "cell_type": "code",
   "execution_count": 9,
   "id": "177b2fa4",
   "metadata": {},
   "outputs": [],
   "source": [
    "#reduce: indirgeme işlemi yapar"
   ]
  },
  {
   "cell_type": "code",
   "execution_count": 10,
   "id": "3670f978",
   "metadata": {},
   "outputs": [],
   "source": [
    "from functools import reduce"
   ]
  },
  {
   "cell_type": "code",
   "execution_count": 15,
   "id": "1ccb8701",
   "metadata": {},
   "outputs": [
    {
     "data": {
      "text/plain": [
       "10"
      ]
     },
     "execution_count": 15,
     "metadata": {},
     "output_type": "execute_result"
    }
   ],
   "source": [
    "liste= [1,2,3,4]\n",
    "reduce(lambda a,b: a+b, liste)"
   ]
  },
  {
   "cell_type": "code",
   "execution_count": null,
   "id": "9f80d955",
   "metadata": {},
   "outputs": [],
   "source": []
  }
 ],
 "metadata": {
  "kernelspec": {
   "display_name": "Python 3 (ipykernel)",
   "language": "python",
   "name": "python3"
  },
  "language_info": {
   "codemirror_mode": {
    "name": "ipython",
    "version": 3
   },
   "file_extension": ".py",
   "mimetype": "text/x-python",
   "name": "python",
   "nbconvert_exporter": "python",
   "pygments_lexer": "ipython3",
   "version": "3.9.12"
  }
 },
 "nbformat": 4,
 "nbformat_minor": 5
}
