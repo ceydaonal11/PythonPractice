{
 "cells": [
  {
   "cell_type": "markdown",
   "id": "f74d1930",
   "metadata": {},
   "source": [
    "# Dongu ve Fonksiyonları Birlikte Kullanmak"
   ]
  },
  {
   "cell_type": "code",
   "execution_count": 1,
   "id": "20ac801a",
   "metadata": {},
   "outputs": [],
   "source": [
    "def kare_al(x):\n",
    "    print(x**2)"
   ]
  },
  {
   "cell_type": "code",
   "execution_count": 2,
   "id": "1eab0521",
   "metadata": {},
   "outputs": [
    {
     "name": "stdout",
     "output_type": "stream",
     "text": [
      "25\n"
     ]
    }
   ],
   "source": [
    "kare_al(5)"
   ]
  },
  {
   "cell_type": "code",
   "execution_count": 16,
   "id": "dc7ba4e5",
   "metadata": {},
   "outputs": [],
   "source": [
    "maaslar = [1000,2000,3000,4000,5000]"
   ]
  },
  {
   "cell_type": "code",
   "execution_count": 22,
   "id": "78c75af2",
   "metadata": {},
   "outputs": [
    {
     "name": "stdout",
     "output_type": "stream",
     "text": [
      "1000\n",
      "2000\n",
      "3000\n",
      "4000\n",
      "5000\n"
     ]
    }
   ],
   "source": [
    "for i in maaslar:\n",
    "    print(i)"
   ]
  },
  {
   "cell_type": "code",
   "execution_count": 23,
   "id": "8a849b32",
   "metadata": {},
   "outputs": [],
   "source": [
    "#maaslara %20 zam yapılacaktır. Gerekli kodları yaziniz."
   ]
  },
  {
   "cell_type": "code",
   "execution_count": 26,
   "id": "154622dd",
   "metadata": {},
   "outputs": [],
   "source": [
    "def yeni_maas(x):\n",
    "        print(x*20/100 + x)"
   ]
  },
  {
   "cell_type": "code",
   "execution_count": 27,
   "id": "921e645b",
   "metadata": {},
   "outputs": [
    {
     "name": "stdout",
     "output_type": "stream",
     "text": [
      "1200.0\n",
      "2400.0\n",
      "3600.0\n",
      "4800.0\n",
      "6000.0\n"
     ]
    }
   ],
   "source": [
    "for i in maaslar:\n",
    "    yeni_maas(i)"
   ]
  },
  {
   "cell_type": "code",
   "execution_count": 28,
   "id": "dea64408",
   "metadata": {},
   "outputs": [],
   "source": [
    "#maasi 3000 den yüksek olanlara %10, düşük olanlara %20 zam yapılacaktır. "
   ]
  },
  {
   "cell_type": "code",
   "execution_count": 32,
   "id": "763fda66",
   "metadata": {},
   "outputs": [],
   "source": [
    "maaslar = [1000,2000,3000,4000,5000]"
   ]
  },
  {
   "cell_type": "code",
   "execution_count": 33,
   "id": "0581bb47",
   "metadata": {},
   "outputs": [],
   "source": [
    "def maas_yuksek(x):\n",
    "        print(x*10/100 + x)"
   ]
  },
  {
   "cell_type": "code",
   "execution_count": 40,
   "id": "7e89cfd9",
   "metadata": {},
   "outputs": [],
   "source": [
    "def maas_dusuk(x):\n",
    "        print(x*20/100 + x)"
   ]
  },
  {
   "cell_type": "code",
   "execution_count": 41,
   "id": "d4f8f441",
   "metadata": {},
   "outputs": [
    {
     "name": "stdout",
     "output_type": "stream",
     "text": [
      "1200.0\n",
      "2400.0\n",
      "3300.0\n",
      "4400.0\n",
      "5500.0\n"
     ]
    }
   ],
   "source": [
    "for i in maaslar:\n",
    "    if i>=3000:\n",
    "        maas_yuksek(i)\n",
    "    else:\n",
    "        maas_dusuk(i)"
   ]
  },
  {
   "cell_type": "code",
   "execution_count": null,
   "id": "e6150772",
   "metadata": {},
   "outputs": [],
   "source": []
  }
 ],
 "metadata": {
  "kernelspec": {
   "display_name": "Python 3 (ipykernel)",
   "language": "python",
   "name": "python3"
  },
  "language_info": {
   "codemirror_mode": {
    "name": "ipython",
    "version": 3
   },
   "file_extension": ".py",
   "mimetype": "text/x-python",
   "name": "python",
   "nbconvert_exporter": "python",
   "pygments_lexer": "ipython3",
   "version": "3.9.12"
  }
 },
 "nbformat": 4,
 "nbformat_minor": 5
}
