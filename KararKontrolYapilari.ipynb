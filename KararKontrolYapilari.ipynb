{
 "cells": [
  {
   "cell_type": "markdown",
   "id": "c3de80f6",
   "metadata": {},
   "source": [
    "# Karar & Kontrol Yapıları"
   ]
  },
  {
   "cell_type": "markdown",
   "id": "1357b83e",
   "metadata": {},
   "source": [
    "True-False Sorgulamaları"
   ]
  },
  {
   "cell_type": "code",
   "execution_count": 1,
   "id": "80d664f5",
   "metadata": {},
   "outputs": [],
   "source": [
    "sinir = 5000"
   ]
  },
  {
   "cell_type": "code",
   "execution_count": 2,
   "id": "70b3c10f",
   "metadata": {},
   "outputs": [
    {
     "data": {
      "text/plain": [
       "False"
      ]
     },
     "execution_count": 2,
     "metadata": {},
     "output_type": "execute_result"
    }
   ],
   "source": [
    "sinir == 4000"
   ]
  },
  {
   "cell_type": "code",
   "execution_count": 3,
   "id": "c69315d2",
   "metadata": {},
   "outputs": [
    {
     "data": {
      "text/plain": [
       "True"
      ]
     },
     "execution_count": 3,
     "metadata": {},
     "output_type": "execute_result"
    }
   ],
   "source": [
    "sinir == 5000"
   ]
  },
  {
   "cell_type": "code",
   "execution_count": 4,
   "id": "70448fdc",
   "metadata": {},
   "outputs": [
    {
     "data": {
      "text/plain": [
       "False"
      ]
     },
     "execution_count": 4,
     "metadata": {},
     "output_type": "execute_result"
    }
   ],
   "source": [
    "5 == 7"
   ]
  },
  {
   "cell_type": "code",
   "execution_count": 5,
   "id": "06a06e30",
   "metadata": {},
   "outputs": [
    {
     "data": {
      "text/plain": [
       "True"
      ]
     },
     "execution_count": 5,
     "metadata": {},
     "output_type": "execute_result"
    }
   ],
   "source": [
    "7 == 7"
   ]
  },
  {
   "cell_type": "code",
   "execution_count": null,
   "id": "3977f7b6",
   "metadata": {},
   "outputs": [],
   "source": []
  }
 ],
 "metadata": {
  "kernelspec": {
   "display_name": "Python 3 (ipykernel)",
   "language": "python",
   "name": "python3"
  },
  "language_info": {
   "codemirror_mode": {
    "name": "ipython",
    "version": 3
   },
   "file_extension": ".py",
   "mimetype": "text/x-python",
   "name": "python",
   "nbconvert_exporter": "python",
   "pygments_lexer": "ipython3",
   "version": "3.9.12"
  }
 },
 "nbformat": 4,
 "nbformat_minor": 5
}
