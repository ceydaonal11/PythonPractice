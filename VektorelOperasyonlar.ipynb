{
 "cells": [
  {
   "cell_type": "markdown",
   "id": "24af09b5",
   "metadata": {},
   "source": [
    "# Vektorel Operasyonlar (Vectorel Operations)"
   ]
  },
  {
   "cell_type": "code",
   "execution_count": 6,
   "id": "f3ead17e",
   "metadata": {},
   "outputs": [],
   "source": [
    "#OOP"
   ]
  },
  {
   "cell_type": "code",
   "execution_count": 7,
   "id": "719b9a90",
   "metadata": {},
   "outputs": [],
   "source": [
    "a = [1,2,3,4]\n",
    "b = [2,3,4,5]"
   ]
  },
  {
   "cell_type": "code",
   "execution_count": 8,
   "id": "7b90dffd",
   "metadata": {},
   "outputs": [],
   "source": [
    "# a ve b vektörünü çarpmak istiyoruz\n",
    "ab = [] #Önce boş bir liste tanımlıyoruz"
   ]
  },
  {
   "cell_type": "code",
   "execution_count": 9,
   "id": "012e85d0",
   "metadata": {},
   "outputs": [
    {
     "data": {
      "text/plain": [
       "range(0, 4)"
      ]
     },
     "execution_count": 9,
     "metadata": {},
     "output_type": "execute_result"
    }
   ],
   "source": [
    "range(0, len(a))"
   ]
  },
  {
   "cell_type": "code",
   "execution_count": 10,
   "id": "d7c369e1",
   "metadata": {},
   "outputs": [],
   "source": [
    "for i in range(0, len(a)):\n",
    "    ab.append(a[i]*b[i])"
   ]
  },
  {
   "cell_type": "code",
   "execution_count": 11,
   "id": "affb79fe",
   "metadata": {},
   "outputs": [
    {
     "data": {
      "text/plain": [
       "[2, 6, 12, 20]"
      ]
     },
     "execution_count": 11,
     "metadata": {},
     "output_type": "execute_result"
    }
   ],
   "source": [
    "ab"
   ]
  },
  {
   "cell_type": "code",
   "execution_count": 12,
   "id": "6a224395",
   "metadata": {},
   "outputs": [],
   "source": [
    "#Fonksiyonel Programlama Versiyonu"
   ]
  },
  {
   "cell_type": "code",
   "execution_count": 13,
   "id": "beab047f",
   "metadata": {},
   "outputs": [],
   "source": [
    "import numpy as np"
   ]
  },
  {
   "cell_type": "code",
   "execution_count": 14,
   "id": "4d876945",
   "metadata": {},
   "outputs": [],
   "source": [
    "a = np.array([1,2,3,4])\n",
    "b = np.array([2,3,4,5])"
   ]
  },
  {
   "cell_type": "code",
   "execution_count": 16,
   "id": "c81c1a29",
   "metadata": {},
   "outputs": [
    {
     "data": {
      "text/plain": [
       "array([ 2,  6, 12, 20])"
      ]
     },
     "execution_count": 16,
     "metadata": {},
     "output_type": "execute_result"
    }
   ],
   "source": [
    "a*b"
   ]
  },
  {
   "cell_type": "code",
   "execution_count": null,
   "id": "ddfc4bec",
   "metadata": {},
   "outputs": [],
   "source": []
  }
 ],
 "metadata": {
  "kernelspec": {
   "display_name": "Python 3 (ipykernel)",
   "language": "python",
   "name": "python3"
  },
  "language_info": {
   "codemirror_mode": {
    "name": "ipython",
    "version": 3
   },
   "file_extension": ".py",
   "mimetype": "text/x-python",
   "name": "python",
   "nbconvert_exporter": "python",
   "pygments_lexer": "ipython3",
   "version": "3.9.12"
  }
 },
 "nbformat": 4,
 "nbformat_minor": 5
}
