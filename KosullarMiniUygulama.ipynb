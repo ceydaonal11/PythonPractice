{
 "cells": [
  {
   "cell_type": "markdown",
   "id": "a8f4627c",
   "metadata": {},
   "source": [
    "# if ve input ile Kullancı Etkileşimli Program "
   ]
  },
  {
   "cell_type": "code",
   "execution_count": 28,
   "id": "f652f159",
   "metadata": {},
   "outputs": [],
   "source": [
    "sinir = 50000"
   ]
  },
  {
   "cell_type": "code",
   "execution_count": 29,
   "id": "efca3d02",
   "metadata": {},
   "outputs": [
    {
     "name": "stdout",
     "output_type": "stream",
     "text": [
      "Magaza Adi Nedir?A magazası\n",
      "Gelirinizi Giriniz: 780000\n"
     ]
    }
   ],
   "source": [
    "magaza_adi = input(\"Magaza Adi Nedir?\")\n",
    "gelir = int(input(\"Gelirinizi Giriniz: \"))"
   ]
  },
  {
   "cell_type": "code",
   "execution_count": 32,
   "id": "61883dc7",
   "metadata": {},
   "outputs": [
    {
     "name": "stdout",
     "output_type": "stream",
     "text": [
      "Tebrikler, A magazası hediye kazandınız.\n"
     ]
    }
   ],
   "source": [
    "if gelir > sinir:\n",
    "    print(\"Tebrikler, \" + magaza_adi + \" hediye kazandınız.\")\n",
    "    \n",
    "elif gelir < sinir:\n",
    "    print(\"Uyari! Cok düsük gelir: \" + str(gelir))\n",
    "\n",
    "else:\n",
    "    print(\"Takibe devam\")"
   ]
  },
  {
   "cell_type": "code",
   "execution_count": null,
   "id": "57d6ac1c",
   "metadata": {},
   "outputs": [],
   "source": []
  }
 ],
 "metadata": {
  "kernelspec": {
   "display_name": "Python 3 (ipykernel)",
   "language": "python",
   "name": "python3"
  },
  "language_info": {
   "codemirror_mode": {
    "name": "ipython",
    "version": 3
   },
   "file_extension": ".py",
   "mimetype": "text/x-python",
   "name": "python",
   "nbconvert_exporter": "python",
   "pygments_lexer": "ipython3",
   "version": "3.9.12"
  }
 },
 "nbformat": 4,
 "nbformat_minor": 5
}
