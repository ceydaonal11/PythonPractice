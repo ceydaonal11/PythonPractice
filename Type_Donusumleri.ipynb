{
 "cells": [
  {
   "cell_type": "markdown",
   "id": "a9881823",
   "metadata": {},
   "source": [
    "# Type_Donusumleri"
   ]
  },
  {
   "cell_type": "code",
   "execution_count": 3,
   "id": "319eb9b6",
   "metadata": {},
   "outputs": [
    {
     "name": "stdout",
     "output_type": "stream",
     "text": [
      "7\n",
      "5\n",
      "12\n"
     ]
    }
   ],
   "source": [
    "sayi_bir = int(input())\n",
    "sayi_iki = int(input())\n",
    "toplam = sayi_bir + sayi_iki\n",
    "print(toplam)"
   ]
  },
  {
   "cell_type": "code",
   "execution_count": 5,
   "id": "c01b3b53",
   "metadata": {},
   "outputs": [
    {
     "name": "stdout",
     "output_type": "stream",
     "text": [
      "8\n",
      "18\n",
      "818\n"
     ]
    }
   ],
   "source": [
    "sayi_bir = input()\n",
    "sayi_iki = input()\n",
    "toplam = sayi_bir + sayi_iki\n",
    "print(toplam)"
   ]
  },
  {
   "cell_type": "code",
   "execution_count": null,
   "id": "7cbeca35",
   "metadata": {},
   "outputs": [],
   "source": []
  }
 ],
 "metadata": {
  "kernelspec": {
   "display_name": "Python 3 (ipykernel)",
   "language": "python",
   "name": "python3"
  },
  "language_info": {
   "codemirror_mode": {
    "name": "ipython",
    "version": 3
   },
   "file_extension": ".py",
   "mimetype": "text/x-python",
   "name": "python",
   "nbconvert_exporter": "python",
   "pygments_lexer": "ipython3",
   "version": "3.9.12"
  }
 },
 "nbformat": 4,
 "nbformat_minor": 5
}
