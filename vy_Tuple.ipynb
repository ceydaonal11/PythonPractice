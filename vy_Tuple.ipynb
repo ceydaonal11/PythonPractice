{
 "cells": [
  {
   "cell_type": "code",
   "execution_count": 4,
   "id": "dee352ae",
   "metadata": {},
   "outputs": [
    {
     "data": {
      "text/plain": [
       "tuple"
      ]
     },
     "execution_count": 4,
     "metadata": {},
     "output_type": "execute_result"
    }
   ],
   "source": [
    "#Tuple:Kapsayıcıdır, Sıralıdır, Değiştirilemez\n",
    "#Tuple Oluşturma\n",
    "\n",
    "t = \"ali\",\"veli\",1,2,[1,2,3,4]\n",
    "t = \"ali\",\"veli\",1,2,3.2,[1,2,3,4]\n",
    "\n",
    "#tuple()\n",
    "\n",
    "t = (\"eleman\",)\n",
    "type(t)"
   ]
  },
  {
   "cell_type": "code",
   "execution_count": 1,
   "id": "03a98572",
   "metadata": {},
   "outputs": [
    {
     "data": {
      "text/plain": [
       "('ali', 'veli', 1)"
      ]
     },
     "execution_count": 1,
     "metadata": {},
     "output_type": "execute_result"
    }
   ],
   "source": [
    "#Tuple Eleman Islemleri\n",
    "\n",
    "t = (\"ali\",\"veli\",1,2,3,[1,2,3,4])\n",
    "t[1]\n",
    "t[0:3]"
   ]
  },
  {
   "cell_type": "code",
   "execution_count": null,
   "id": "c3153c46",
   "metadata": {},
   "outputs": [],
   "source": []
  }
 ],
 "metadata": {
  "kernelspec": {
   "display_name": "Python 3 (ipykernel)",
   "language": "python",
   "name": "python3"
  },
  "language_info": {
   "codemirror_mode": {
    "name": "ipython",
    "version": 3
   },
   "file_extension": ".py",
   "mimetype": "text/x-python",
   "name": "python",
   "nbconvert_exporter": "python",
   "pygments_lexer": "ipython3",
   "version": "3.9.12"
  }
 },
 "nbformat": 4,
 "nbformat_minor": 5
}
